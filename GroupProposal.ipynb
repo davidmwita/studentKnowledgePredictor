{
 "cells": [
  {
   "cell_type": "markdown",
   "metadata": {},
   "source": [
    "# Determining Student Knowledge Status"
   ]
  },
  {
   "cell_type": "markdown",
   "metadata": {},
   "source": [
    "### Introduction"
   ]
  },
  {
   "cell_type": "markdown",
   "metadata": {},
   "source": [
    "Understanding how student study methods and examination results affect the retention of information is essential to create better teaching and learning methodologies. At a university in Turkey, Ph.D students collected data on undergraduate students' understanding of Electrical DC Machines. They utilized five standardized characteristics to determine the knowledge level of students from very low to high. The five variables included the amount of study time, number of repetitions and exam performance for goal object materials as well as the amount of study time and exam performance for related objects with the goal object.\n",
    "\n",
    "Through this project, we propose to answer the following question: \n",
    "\n",
    "> *Given the degree of preparation and examination results of a student, what will be the knowledge retention level of said student?* \n",
    "\n",
    "We aim to achieve this by training a model that, given the five aforementioned characteristics, will classify the knowledge level of a student. "
   ]
  },
  {
   "cell_type": "markdown",
   "metadata": {},
   "source": [
    "### Preliminary Exploratory Data Analysis"
   ]
  },
  {
   "cell_type": "code",
   "execution_count": 29,
   "metadata": {},
   "outputs": [],
   "source": [
    "## Run this cell before continuing\n",
    "library(tidyverse)\n",
    "library(readxl)\n",
    "library(repr)"
   ]
  },
  {
   "cell_type": "markdown",
   "metadata": {},
   "source": [
    "The dataset we will be using is the **User Knowledge Modeling Data Set** provided by the *UCI Machine Learning Repository*, linked [here](https://archive.ics.uci.edu/ml/datasets/User+Knowledge+Modeling).\n",
    "\n",
    "This dataset has the following variables:\n",
    "- `STG`: The degree of study time for goal object materials\n",
    "- `SCG`: The degree of repetition number of user for goal object materials\n",
    "- `STR`: The degree of study time of user for related objects with goal object\n",
    "- `LPR`: The exam performance of user for related objects with goal object\n",
    "- `PEG`: The exam performance of user for goal objects\n",
    "- `UNS`: The knowledge level of user\n",
    "\n",
    "Utilizing the first five variables, we aim to predict the sixth variable, `UNS`, which is a student's knowledge level. The knowledge level variable has one of four possible labels: `High`, `Middle`, `Low` and `Very Low`."
   ]
  },
  {
   "cell_type": "markdown",
   "metadata": {},
   "source": [
    "First, let's read in the training data:"
   ]
  },
  {
   "cell_type": "code",
   "execution_count": 30,
   "metadata": {},
   "outputs": [
    {
     "name": "stderr",
     "output_type": "stream",
     "text": [
      "New names:\n",
      "* `` -> ...7\n",
      "* `` -> ...8\n",
      "\n"
     ]
    },
    {
     "data": {
      "text/html": [
       "<table>\n",
       "<caption>A tibble: 5 × 6</caption>\n",
       "<thead>\n",
       "\t<tr><th scope=col>STG</th><th scope=col>SCG</th><th scope=col>STR</th><th scope=col>LPR</th><th scope=col>PEG</th><th scope=col>UNS</th></tr>\n",
       "\t<tr><th scope=col>&lt;dbl&gt;</th><th scope=col>&lt;dbl&gt;</th><th scope=col>&lt;dbl&gt;</th><th scope=col>&lt;dbl&gt;</th><th scope=col>&lt;dbl&gt;</th><th scope=col>&lt;chr&gt;</th></tr>\n",
       "</thead>\n",
       "<tbody>\n",
       "\t<tr><td>0.00</td><td>0.00</td><td>0.00</td><td>0.00</td><td>0.00</td><td>very_low</td></tr>\n",
       "\t<tr><td>0.08</td><td>0.08</td><td>0.10</td><td>0.24</td><td>0.90</td><td>High    </td></tr>\n",
       "\t<tr><td>0.06</td><td>0.06</td><td>0.05</td><td>0.25</td><td>0.33</td><td>Low     </td></tr>\n",
       "\t<tr><td>0.10</td><td>0.10</td><td>0.15</td><td>0.65</td><td>0.30</td><td>Middle  </td></tr>\n",
       "\t<tr><td>0.08</td><td>0.08</td><td>0.08</td><td>0.98</td><td>0.24</td><td>Low     </td></tr>\n",
       "</tbody>\n",
       "</table>\n"
      ],
      "text/latex": [
       "A tibble: 5 × 6\n",
       "\\begin{tabular}{llllll}\n",
       " STG & SCG & STR & LPR & PEG & UNS\\\\\n",
       " <dbl> & <dbl> & <dbl> & <dbl> & <dbl> & <chr>\\\\\n",
       "\\hline\n",
       "\t 0.00 & 0.00 & 0.00 & 0.00 & 0.00 & very\\_low\\\\\n",
       "\t 0.08 & 0.08 & 0.10 & 0.24 & 0.90 & High    \\\\\n",
       "\t 0.06 & 0.06 & 0.05 & 0.25 & 0.33 & Low     \\\\\n",
       "\t 0.10 & 0.10 & 0.15 & 0.65 & 0.30 & Middle  \\\\\n",
       "\t 0.08 & 0.08 & 0.08 & 0.98 & 0.24 & Low     \\\\\n",
       "\\end{tabular}\n"
      ],
      "text/markdown": [
       "\n",
       "A tibble: 5 × 6\n",
       "\n",
       "| STG &lt;dbl&gt; | SCG &lt;dbl&gt; | STR &lt;dbl&gt; | LPR &lt;dbl&gt; | PEG &lt;dbl&gt; | UNS &lt;chr&gt; |\n",
       "|---|---|---|---|---|---|\n",
       "| 0.00 | 0.00 | 0.00 | 0.00 | 0.00 | very_low |\n",
       "| 0.08 | 0.08 | 0.10 | 0.24 | 0.90 | High     |\n",
       "| 0.06 | 0.06 | 0.05 | 0.25 | 0.33 | Low      |\n",
       "| 0.10 | 0.10 | 0.15 | 0.65 | 0.30 | Middle   |\n",
       "| 0.08 | 0.08 | 0.08 | 0.98 | 0.24 | Low      |\n",
       "\n"
      ],
      "text/plain": [
       "  STG  SCG  STR  LPR  PEG  UNS     \n",
       "1 0.00 0.00 0.00 0.00 0.00 very_low\n",
       "2 0.08 0.08 0.10 0.24 0.90 High    \n",
       "3 0.06 0.06 0.05 0.25 0.33 Low     \n",
       "4 0.10 0.10 0.15 0.65 0.30 Middle  \n",
       "5 0.08 0.08 0.08 0.98 0.24 Low     "
      ]
     },
     "metadata": {},
     "output_type": "display_data"
    }
   ],
   "source": [
    "url <- \"https://archive.ics.uci.edu/ml/machine-learning-databases/00257/Data_User_Modeling_Dataset_Hamdi%20Tolga%20KAHRAMAN.xls\"\n",
    "download.file(url, destfile = \"data/Data_User_Modeling_Dataset.xls\")\n",
    "knowledge <- read_excel(\"data/Data_User_Modeling_Dataset.xls\", sheet = 2) %>%\n",
    "    select(STG:UNS)\n",
    "\n",
    "head(knowledge, n = 5)"
   ]
  },
  {
   "cell_type": "markdown",
   "metadata": {},
   "source": [
    "Note that the first five variables appear to be normalized to be in the range [0, 1]. This will actually make things easier for us when training our classification model!\n",
    "\n",
    "Additionaly, note that out of all category names, only `STG` and `STR` properly communicate what they represent. Let's change the variable names to the following, which better communicate what they represent:\n",
    "- `STG`: Study Time degree for Goal object materials\n",
    "- `RNG`: Repetition Number degree for Goal object materials\n",
    "- `STR`: Study Time degree for Related objects with goal object materials\n",
    "- `EPR`: Exam Performance for Related objects with goal objects\n",
    "- `EPG`: Exam Performance for Goal object\n",
    "- `SKL`: Student Knowledge Level"
   ]
  },
  {
   "cell_type": "code",
   "execution_count": 31,
   "metadata": {},
   "outputs": [
    {
     "data": {
      "text/html": [
       "<table>\n",
       "<caption>A tibble: 5 × 6</caption>\n",
       "<thead>\n",
       "\t<tr><th scope=col>STG</th><th scope=col>RNG</th><th scope=col>STR</th><th scope=col>EPR</th><th scope=col>EPG</th><th scope=col>SKL</th></tr>\n",
       "\t<tr><th scope=col>&lt;dbl&gt;</th><th scope=col>&lt;dbl&gt;</th><th scope=col>&lt;dbl&gt;</th><th scope=col>&lt;dbl&gt;</th><th scope=col>&lt;dbl&gt;</th><th scope=col>&lt;chr&gt;</th></tr>\n",
       "</thead>\n",
       "<tbody>\n",
       "\t<tr><td>0.00</td><td>0.00</td><td>0.00</td><td>0.00</td><td>0.00</td><td>very_low</td></tr>\n",
       "\t<tr><td>0.08</td><td>0.08</td><td>0.10</td><td>0.24</td><td>0.90</td><td>High    </td></tr>\n",
       "\t<tr><td>0.06</td><td>0.06</td><td>0.05</td><td>0.25</td><td>0.33</td><td>Low     </td></tr>\n",
       "\t<tr><td>0.10</td><td>0.10</td><td>0.15</td><td>0.65</td><td>0.30</td><td>Middle  </td></tr>\n",
       "\t<tr><td>0.08</td><td>0.08</td><td>0.08</td><td>0.98</td><td>0.24</td><td>Low     </td></tr>\n",
       "</tbody>\n",
       "</table>\n"
      ],
      "text/latex": [
       "A tibble: 5 × 6\n",
       "\\begin{tabular}{llllll}\n",
       " STG & RNG & STR & EPR & EPG & SKL\\\\\n",
       " <dbl> & <dbl> & <dbl> & <dbl> & <dbl> & <chr>\\\\\n",
       "\\hline\n",
       "\t 0.00 & 0.00 & 0.00 & 0.00 & 0.00 & very\\_low\\\\\n",
       "\t 0.08 & 0.08 & 0.10 & 0.24 & 0.90 & High    \\\\\n",
       "\t 0.06 & 0.06 & 0.05 & 0.25 & 0.33 & Low     \\\\\n",
       "\t 0.10 & 0.10 & 0.15 & 0.65 & 0.30 & Middle  \\\\\n",
       "\t 0.08 & 0.08 & 0.08 & 0.98 & 0.24 & Low     \\\\\n",
       "\\end{tabular}\n"
      ],
      "text/markdown": [
       "\n",
       "A tibble: 5 × 6\n",
       "\n",
       "| STG &lt;dbl&gt; | RNG &lt;dbl&gt; | STR &lt;dbl&gt; | EPR &lt;dbl&gt; | EPG &lt;dbl&gt; | SKL &lt;chr&gt; |\n",
       "|---|---|---|---|---|---|\n",
       "| 0.00 | 0.00 | 0.00 | 0.00 | 0.00 | very_low |\n",
       "| 0.08 | 0.08 | 0.10 | 0.24 | 0.90 | High     |\n",
       "| 0.06 | 0.06 | 0.05 | 0.25 | 0.33 | Low      |\n",
       "| 0.10 | 0.10 | 0.15 | 0.65 | 0.30 | Middle   |\n",
       "| 0.08 | 0.08 | 0.08 | 0.98 | 0.24 | Low      |\n",
       "\n"
      ],
      "text/plain": [
       "  STG  RNG  STR  EPR  EPG  SKL     \n",
       "1 0.00 0.00 0.00 0.00 0.00 very_low\n",
       "2 0.08 0.08 0.10 0.24 0.90 High    \n",
       "3 0.06 0.06 0.05 0.25 0.33 Low     \n",
       "4 0.10 0.10 0.15 0.65 0.30 Middle  \n",
       "5 0.08 0.08 0.08 0.98 0.24 Low     "
      ]
     },
     "metadata": {},
     "output_type": "display_data"
    }
   ],
   "source": [
    "knowledge <- knowledge %>%\n",
    "    rename(RNG = SCG,\n",
    "           EPR = LPR, \n",
    "           EPG = PEG,\n",
    "           SKL = UNS)\n",
    "head(knowledge, n = 5)"
   ]
  },
  {
   "cell_type": "markdown",
   "metadata": {},
   "source": [
    "That's better. Let's continue tidying up the data!\n",
    "\n",
    "Now, the wide format in which this data is currently represented is not exactly tidy. For one thing, how does one know what the numbers represent? Without contextual knowledge, this format makes it impossible to know. To solve this problem, we reshape the data set to a tidy data format by creating a column called \"predictor_type\" and a column called “performance.”"
   ]
  },
  {
   "cell_type": "code",
   "execution_count": 32,
   "metadata": {},
   "outputs": [],
   "source": [
    "knowledge <- knowledge %>%\n",
    "    pivot_longer(cols = STG:EPG,\n",
    "                 names_to = 'predictor_type',\n",
    "                 values_to = 'performance')"
   ]
  },
  {
   "cell_type": "code",
   "execution_count": 33,
   "metadata": {},
   "outputs": [
    {
     "data": {
      "text/html": [
       "<table>\n",
       "<caption>A tibble: 10 × 3</caption>\n",
       "<thead>\n",
       "\t<tr><th scope=col>SKL</th><th scope=col>predictor_type</th><th scope=col>performance</th></tr>\n",
       "\t<tr><th scope=col>&lt;chr&gt;</th><th scope=col>&lt;chr&gt;</th><th scope=col>&lt;dbl&gt;</th></tr>\n",
       "</thead>\n",
       "<tbody>\n",
       "\t<tr><td>very_low</td><td>STG</td><td>0.00</td></tr>\n",
       "\t<tr><td>very_low</td><td>RNG</td><td>0.00</td></tr>\n",
       "\t<tr><td>very_low</td><td>STR</td><td>0.00</td></tr>\n",
       "\t<tr><td>very_low</td><td>EPR</td><td>0.00</td></tr>\n",
       "\t<tr><td>very_low</td><td>EPG</td><td>0.00</td></tr>\n",
       "\t<tr><td>High    </td><td>STG</td><td>0.08</td></tr>\n",
       "\t<tr><td>High    </td><td>RNG</td><td>0.08</td></tr>\n",
       "\t<tr><td>High    </td><td>STR</td><td>0.10</td></tr>\n",
       "\t<tr><td>High    </td><td>EPR</td><td>0.24</td></tr>\n",
       "\t<tr><td>High    </td><td>EPG</td><td>0.90</td></tr>\n",
       "</tbody>\n",
       "</table>\n"
      ],
      "text/latex": [
       "A tibble: 10 × 3\n",
       "\\begin{tabular}{lll}\n",
       " SKL & predictor\\_type & performance\\\\\n",
       " <chr> & <chr> & <dbl>\\\\\n",
       "\\hline\n",
       "\t very\\_low & STG & 0.00\\\\\n",
       "\t very\\_low & RNG & 0.00\\\\\n",
       "\t very\\_low & STR & 0.00\\\\\n",
       "\t very\\_low & EPR & 0.00\\\\\n",
       "\t very\\_low & EPG & 0.00\\\\\n",
       "\t High     & STG & 0.08\\\\\n",
       "\t High     & RNG & 0.08\\\\\n",
       "\t High     & STR & 0.10\\\\\n",
       "\t High     & EPR & 0.24\\\\\n",
       "\t High     & EPG & 0.90\\\\\n",
       "\\end{tabular}\n"
      ],
      "text/markdown": [
       "\n",
       "A tibble: 10 × 3\n",
       "\n",
       "| SKL &lt;chr&gt; | predictor_type &lt;chr&gt; | performance &lt;dbl&gt; |\n",
       "|---|---|---|\n",
       "| very_low | STG | 0.00 |\n",
       "| very_low | RNG | 0.00 |\n",
       "| very_low | STR | 0.00 |\n",
       "| very_low | EPR | 0.00 |\n",
       "| very_low | EPG | 0.00 |\n",
       "| High     | STG | 0.08 |\n",
       "| High     | RNG | 0.08 |\n",
       "| High     | STR | 0.10 |\n",
       "| High     | EPR | 0.24 |\n",
       "| High     | EPG | 0.90 |\n",
       "\n"
      ],
      "text/plain": [
       "   SKL      predictor_type performance\n",
       "1  very_low STG            0.00       \n",
       "2  very_low RNG            0.00       \n",
       "3  very_low STR            0.00       \n",
       "4  very_low EPR            0.00       \n",
       "5  very_low EPG            0.00       \n",
       "6  High     STG            0.08       \n",
       "7  High     RNG            0.08       \n",
       "8  High     STR            0.10       \n",
       "9  High     EPR            0.24       \n",
       "10 High     EPG            0.90       "
      ]
     },
     "metadata": {},
     "output_type": "display_data"
    }
   ],
   "source": [
    "head(knowledge, n = 10)"
   ]
  },
  {
   "cell_type": "markdown",
   "metadata": {},
   "source": [
    "The data above appears to be in tidy format. That is, each row is a single observation, each column is a single variable and each cell contains a single value.\n",
    "\n",
    "A few changes, however, will make this data easier to work with:\n",
    "- Firstly, transform all knowledge level (SKL) labels to lower case\n",
    "- Then transform the knowledge level (SKL) column to be a factor column instead of the current character column."
   ]
  },
  {
   "cell_type": "code",
   "execution_count": 34,
   "metadata": {},
   "outputs": [
    {
     "data": {
      "text/html": [
       "<table>\n",
       "<caption>A tibble: 10 × 3</caption>\n",
       "<thead>\n",
       "\t<tr><th scope=col>SKL</th><th scope=col>predictor_type</th><th scope=col>performance</th></tr>\n",
       "\t<tr><th scope=col>&lt;fct&gt;</th><th scope=col>&lt;chr&gt;</th><th scope=col>&lt;dbl&gt;</th></tr>\n",
       "</thead>\n",
       "<tbody>\n",
       "\t<tr><td>very_low</td><td>STG</td><td>0.00</td></tr>\n",
       "\t<tr><td>very_low</td><td>RNG</td><td>0.00</td></tr>\n",
       "\t<tr><td>very_low</td><td>STR</td><td>0.00</td></tr>\n",
       "\t<tr><td>very_low</td><td>EPR</td><td>0.00</td></tr>\n",
       "\t<tr><td>very_low</td><td>EPG</td><td>0.00</td></tr>\n",
       "\t<tr><td>high    </td><td>STG</td><td>0.08</td></tr>\n",
       "\t<tr><td>high    </td><td>RNG</td><td>0.08</td></tr>\n",
       "\t<tr><td>high    </td><td>STR</td><td>0.10</td></tr>\n",
       "\t<tr><td>high    </td><td>EPR</td><td>0.24</td></tr>\n",
       "\t<tr><td>high    </td><td>EPG</td><td>0.90</td></tr>\n",
       "</tbody>\n",
       "</table>\n"
      ],
      "text/latex": [
       "A tibble: 10 × 3\n",
       "\\begin{tabular}{lll}\n",
       " SKL & predictor\\_type & performance\\\\\n",
       " <fct> & <chr> & <dbl>\\\\\n",
       "\\hline\n",
       "\t very\\_low & STG & 0.00\\\\\n",
       "\t very\\_low & RNG & 0.00\\\\\n",
       "\t very\\_low & STR & 0.00\\\\\n",
       "\t very\\_low & EPR & 0.00\\\\\n",
       "\t very\\_low & EPG & 0.00\\\\\n",
       "\t high     & STG & 0.08\\\\\n",
       "\t high     & RNG & 0.08\\\\\n",
       "\t high     & STR & 0.10\\\\\n",
       "\t high     & EPR & 0.24\\\\\n",
       "\t high     & EPG & 0.90\\\\\n",
       "\\end{tabular}\n"
      ],
      "text/markdown": [
       "\n",
       "A tibble: 10 × 3\n",
       "\n",
       "| SKL &lt;fct&gt; | predictor_type &lt;chr&gt; | performance &lt;dbl&gt; |\n",
       "|---|---|---|\n",
       "| very_low | STG | 0.00 |\n",
       "| very_low | RNG | 0.00 |\n",
       "| very_low | STR | 0.00 |\n",
       "| very_low | EPR | 0.00 |\n",
       "| very_low | EPG | 0.00 |\n",
       "| high     | STG | 0.08 |\n",
       "| high     | RNG | 0.08 |\n",
       "| high     | STR | 0.10 |\n",
       "| high     | EPR | 0.24 |\n",
       "| high     | EPG | 0.90 |\n",
       "\n"
      ],
      "text/plain": [
       "   SKL      predictor_type performance\n",
       "1  very_low STG            0.00       \n",
       "2  very_low RNG            0.00       \n",
       "3  very_low STR            0.00       \n",
       "4  very_low EPR            0.00       \n",
       "5  very_low EPG            0.00       \n",
       "6  high     STG            0.08       \n",
       "7  high     RNG            0.08       \n",
       "8  high     STR            0.10       \n",
       "9  high     EPR            0.24       \n",
       "10 high     EPG            0.90       "
      ]
     },
     "metadata": {},
     "output_type": "display_data"
    }
   ],
   "source": [
    "knowledge <- knowledge %>%\n",
    "    mutate(SKL = as_factor(tolower(SKL)))\n",
    "head(knowledge, n=10)"
   ]
  },
  {
   "cell_type": "markdown",
   "metadata": {},
   "source": [
    "There, that's more like it.\n",
    "\n",
    "Now let's summarize the data to gain some more insight. To do this, we create a table that:\n",
    "1. reports the number of observations in each class of knowledge\n",
    "2. reports the mean performance for each class \n",
    "3. reports the number of rows that have missing data for each class"
   ]
  },
  {
   "cell_type": "code",
   "execution_count": 35,
   "metadata": {},
   "outputs": [
    {
     "name": "stderr",
     "output_type": "stream",
     "text": [
      "`summarise()` ungrouping output (override with `.groups` argument)\n",
      "\n"
     ]
    },
    {
     "data": {
      "text/html": [
       "<table>\n",
       "<caption>A tibble: 4 × 4</caption>\n",
       "<thead>\n",
       "\t<tr><th scope=col>SKL</th><th scope=col>class_count</th><th scope=col>avg_performance</th><th scope=col>missing_rows</th></tr>\n",
       "\t<tr><th scope=col>&lt;fct&gt;</th><th scope=col>&lt;int&gt;</th><th scope=col>&lt;dbl&gt;</th><th scope=col>&lt;int&gt;</th></tr>\n",
       "</thead>\n",
       "<tbody>\n",
       "\t<tr><td>very_low</td><td>120</td><td>0.2639500</td><td>0</td></tr>\n",
       "\t<tr><td>low     </td><td>415</td><td>0.3647687</td><td>0</td></tr>\n",
       "\t<tr><td>middle  </td><td>440</td><td>0.4319886</td><td>0</td></tr>\n",
       "\t<tr><td>high    </td><td>315</td><td>0.5240635</td><td>0</td></tr>\n",
       "</tbody>\n",
       "</table>\n"
      ],
      "text/latex": [
       "A tibble: 4 × 4\n",
       "\\begin{tabular}{llll}\n",
       " SKL & class\\_count & avg\\_performance & missing\\_rows\\\\\n",
       " <fct> & <int> & <dbl> & <int>\\\\\n",
       "\\hline\n",
       "\t very\\_low & 120 & 0.2639500 & 0\\\\\n",
       "\t low      & 415 & 0.3647687 & 0\\\\\n",
       "\t middle   & 440 & 0.4319886 & 0\\\\\n",
       "\t high     & 315 & 0.5240635 & 0\\\\\n",
       "\\end{tabular}\n"
      ],
      "text/markdown": [
       "\n",
       "A tibble: 4 × 4\n",
       "\n",
       "| SKL &lt;fct&gt; | class_count &lt;int&gt; | avg_performance &lt;dbl&gt; | missing_rows &lt;int&gt; |\n",
       "|---|---|---|---|\n",
       "| very_low | 120 | 0.2639500 | 0 |\n",
       "| low      | 415 | 0.3647687 | 0 |\n",
       "| middle   | 440 | 0.4319886 | 0 |\n",
       "| high     | 315 | 0.5240635 | 0 |\n",
       "\n"
      ],
      "text/plain": [
       "  SKL      class_count avg_performance missing_rows\n",
       "1 very_low 120         0.2639500       0           \n",
       "2 low      415         0.3647687       0           \n",
       "3 middle   440         0.4319886       0           \n",
       "4 high     315         0.5240635       0           "
      ]
     },
     "metadata": {},
     "output_type": "display_data"
    }
   ],
   "source": [
    "summary_table <- knowledge %>%\n",
    "    group_by(SKL) %>%\n",
    "    summarize(class_count = n(), avg_performance = mean(performance), missing_rows = sum(is.na(SKL))) %>%\n",
    "    arrange(avg_performance)\n",
    "summary_table"
   ]
  },
  {
   "cell_type": "markdown",
   "metadata": {},
   "source": [
    "Wonderful! It appears that our target variable contains no missing values.\n",
    "\n",
    "Additionally, we see an interesting relationship between the `avg_performance` and `SKL` variables. It appears that there exists a positive relationship between the two. To confirm or disprove this hypothesis, we can visualize the data as follows."
   ]
  },
  {
   "cell_type": "code",
   "execution_count": 36,
   "metadata": {},
   "outputs": [
    {
     "data": {
      "image/png": "[encoded data removed]",
      "text/plain": [
       "plot without title"
      ]
     },
     "metadata": {
      "image/png": {
       "height": 420,
       "width": 780
      }
     },
     "output_type": "display_data"
    }
   ],
   "source": [
    "options(repr.plot.width = 13, repr.plot.height = 7)\n",
    "\n",
    "summary_table %>%\n",
    "    ggplot(aes(x = reorder(SKL, -avg_performance), y = avg_performance, fill = SKL)) + \n",
    "    geom_bar(stat = 'identity') + \n",
    "    labs(x = 'Student Knowledge Level', y = 'Average Performance (Normalized)', fill = 'Student Knowledge Level') + \n",
    "    ggtitle('Average Performance vs Student Knowledge Level') + \n",
    "    theme(text = element_text(size = 17))"
   ]
  },
  {
   "cell_type": "markdown",
   "metadata": {},
   "source": [
    "Hypothesis confirmed! This will be an interesting relationship to further evaluate."
   ]
  },
  {
   "cell_type": "markdown",
   "metadata": {},
   "source": [
    "### Methods\n",
    "\n",
    "As mentioned above, will be using five variables to perform our data analysis and predict the specific knowledge level of a given student observation: \n",
    "1. degree of study time for goal object materials\n",
    "2. degree of repetition number for goal object materials\n",
    "3. degree of study time for related goal objects\n",
    "4. exam performance for goal object materials, and\n",
    "5. exam performance for related goal objects\n",
    "\n",
    "Since the data is normalized and there are no null values present, we will include every observation in our dataset.\n",
    "\n",
    "To better communicate our results, we will be including several visualizations. One, for example, will be a scatterplot of a combination of variables (1), (2), and (3) on the (named total preparation) y-axis, and a combination of variables (4) and (5) on the x-axis (total examination results). Each point will be *colored according to the user’s knowledge level*. This will enable us to deduce two pieces of information. Firstly, we will be able to deduce if a relationship exists between the *degree of studying* and *exam performance*. Additionally, and what is potentially a more significant finding, we will be able to deduce whether a relationship exists between *student preparation and exam performance* and *student knowledge level*.\n"
   ]
  },
  {
   "cell_type": "markdown",
   "metadata": {},
   "source": [
    "### Expected outcomes and significance"
   ]
  },
  {
   "cell_type": "markdown",
   "metadata": {},
   "source": [
    "Through our data analysis, we expect to find that specific levels of preparedness and examination results are associated with certain levels of knowledge. This study will have major implications in the academic community. By understanding how preparedness variables affect knowledge retention, students can develop and implement better learning strategies that will improve their knowledge retention. For further research, determining which of the five variables has the largest implication on knowledge status would be advantageous, enabling students to focus on the factors that most affect knowledge retention."
   ]
  }
 ],
 "metadata": {
  "kernelspec": {
   "display_name": "R",
   "language": "R",
   "name": "ir"
  },
  "language_info": {
   "codemirror_mode": "r",
   "file_extension": ".r",
   "mimetype": "text/x-r-source",
   "name": "R",
   "pygments_lexer": "r",
   "version": "4.0.0"
  }
 },
 "nbformat": 4,
 "nbformat_minor": 4
}
