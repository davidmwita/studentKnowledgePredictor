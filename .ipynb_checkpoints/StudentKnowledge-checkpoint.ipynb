{
 "cells": [
  {
   "cell_type": "markdown",
   "metadata": {},
   "source": [
    "# Determining Student Knowledge Status"
   ]
  },
  {
   "cell_type": "markdown",
   "metadata": {},
   "source": [
    "### Introduction"
   ]
  },
  {
   "cell_type": "markdown",
   "metadata": {},
   "source": [
    "Understanding how student study methods and examination results affect the retention of information is essential to create better teaching and learning methodologies. At a university in Turkey, Ph.D students collected data on undergraduate students' understanding of Electrical DC Machines. They utilized five standardized characteristics to determine the knowledge level of students from very low to high. The five variables included the amount of study time, number of repetitions and exam performance for goal object materials as well as the amount of study time and exam performance for related objects with the goal object.\n",
    "\n",
    "Through this project, we propose to answer the following question: \n",
    "\n",
    "> *Given the degree of preparation and examination results of a student, what will be the knowledge retention level of said student?* \n",
    "\n",
    "We aim to achieve this by training a model that, given the five aforementioned characteristics, will classify the knowledge level of a student. "
   ]
  },
  {
   "cell_type": "markdown",
   "metadata": {},
   "source": [
    "### Preliminary Exploratory Data Analysis"
   ]
  },
  {
   "cell_type": "code",
   "execution_count": null,
   "metadata": {},
   "outputs": [],
   "source": [
    "## Run this cell before continuing\n",
    "library(tidyverse)\n",
    "library(readxl)\n",
    "library(repr)\n",
    "library(tidymodels)\n"
   ]
  },
  {
   "cell_type": "markdown",
   "metadata": {},
   "source": [
    "The dataset we will be using is the **User Knowledge Modeling Data Set** provided by the *UCI Machine Learning Repository*, linked [here](https://archive.ics.uci.edu/ml/datasets/User+Knowledge+Modeling).\n",
    "\n",
    "This dataset has the following variables:\n",
    "- `STG`: The degree of study time for goal object materials\n",
    "- `SCG`: The degree of repetition number of user for goal object materials\n",
    "- `STR`: The degree of study time of user for related objects with goal object\n",
    "- `LPR`: The exam performance of user for related objects with goal object\n",
    "- `PEG`: The exam performance of user for goal objects\n",
    "- `UNS`: The knowledge level of user\n",
    "\n",
    "Utilizing the first five variables, we aim to predict the sixth variable, `UNS`, which is a student's knowledge level. The knowledge level variable has one of four possible labels: `High`, `Middle`, `Low` and `Very Low`."
   ]
  },
  {
   "cell_type": "markdown",
   "metadata": {},
   "source": [
    "The dataset is already split into training and testing data, so we do not have to perform an initial split to separate the data. Now, let's read in our training and testing data:"
   ]
  },
  {
   "cell_type": "code",
   "execution_count": null,
   "metadata": {},
   "outputs": [],
   "source": [
    "url <- \"https://archive.ics.uci.edu/ml/machine-learning-databases/00257/Data_User_Modeling_Dataset_Hamdi%20Tolga%20KAHRAMAN.xls\"\n",
    "download.file(url, destfile = \"data/Data_User_Modeling_Dataset.xls\")\n",
    "knowledge_training <- read_excel(\"data/Data_User_Modeling_Dataset.xls\", sheet = 2) %>%\n",
    "    select(STG:UNS)\n",
    "knowledge_testing <- read_excel(\"data/Data_User_Modeling_Dataset.xls\", sheet = 3) %>%\n",
    "    select(STG:UNS)\n",
    "\n",
    "head(knowledge_training, n = 5)\n",
    "head(knowledge_testing, n = 5)"
   ]
  },
  {
   "cell_type": "markdown",
   "metadata": {},
   "source": [
    "Note that the first five variables appear to be normalized to be in the range [0, 1]. This will actually make things easier for us when training our classification model!\n",
    "\n",
    "Additionaly, note that out of all category names, only `STG` and `STR` properly communicate what they represent. Let's change the variable names to the following, which better communicate what they represent:\n",
    "- `STG`: Study Time degree for Goal object materials\n",
    "- `RNG`: Repetition Number degree for Goal object materials\n",
    "- `STR`: Study Time degree for Related objects with goal object materials\n",
    "- `EPR`: Exam Performance for Related objects with goal objects\n",
    "- `EPG`: Exam Performance for Goal object\n",
    "- `SKL`: Student Knowledge Level"
   ]
  },
  {
   "cell_type": "code",
   "execution_count": null,
   "metadata": {},
   "outputs": [],
   "source": [
    "knowledge_testing <- knowledge_testing %>%\n",
    "    rename(RNG = SCG,\n",
    "           EPR = LPR, \n",
    "           EPG = PEG,\n",
    "           SKL = UNS)\n",
    "knowledge_training <- knowledge_training %>%\n",
    "    rename(RNG = SCG,\n",
    "           EPR = LPR, \n",
    "           EPG = PEG,\n",
    "           SKL = UNS)\n",
    "head(knowledge_testing, n = 5)\n",
    "head(knowledge_training, n = 5)"
   ]
  },
  {
   "cell_type": "markdown",
   "metadata": {},
   "source": [
    "That's better. Let's continue tidying up the data!\n",
    "\n",
    "A few changes will make this data easier to work with:\n",
    "- Firstly, transform all knowledge level (SKL) labels to lower case\n",
    "- Then transform the knowledge level (SKL) column to be a factor column instead of the current character column."
   ]
  },
  {
   "cell_type": "code",
   "execution_count": null,
   "metadata": {},
   "outputs": [],
   "source": [
    "knowledge_testing <- knowledge_testing %>%\n",
    "    mutate(SKL = as_factor(tolower(SKL)))\n",
    "knowledge_training <- knowledge_training %>%\n",
    "    mutate(SKL = as_factor(tolower(SKL)))\n",
    "head(knowledge_testing, n=5)\n",
    "head(knowledge_training, n=5)"
   ]
  },
  {
   "cell_type": "markdown",
   "metadata": {},
   "source": [
    "There, that's more like it.\n",
    "\n",
    "Now, the wide format in which this data is currently represented is not exactly tidy. For one thing, how does one know what the numbers represent? Without contextual knowledge, this format makes it impossible to know. To solve this problem, we reshape the data set to a tidy data format by adding two columns:\n",
    "1. a 'Preparation Degree' column, which averages the study times and repetition numbers for both goal and related object materials, named `prep`\n",
    "2. a 'Examination Result' column, which averages the normalized exam results for both goal and related object materials, named `exam`"
   ]
  },
  {
   "cell_type": "code",
   "execution_count": null,
   "metadata": {},
   "outputs": [],
   "source": [
    "# code here to add the columns\n",
    "knowledge_training = mutate(knowledge_training, \n",
    "                            prep = (STG + RNG + STR)/3,\n",
    "                            exam = (EPR + EPG)/2)\n",
    "knowledge_testing = mutate(knowledge_testing, \n",
    "                           prep = (STG + RNG + STR)/3,\n",
    "                           exam = (EPR + EPG)/2)\n",
    "head(knowledge_training, n=5)\n",
    "head(knowledge_testing, n=5)"
   ]
  },
  {
   "cell_type": "code",
   "execution_count": null,
   "metadata": {},
   "outputs": [],
   "source": [
    "options(repr.plot.width = 12, repr.plot.height = 7)\n",
    "set.seed(18)\n",
    "\n",
    "# Create the knn recipe \n",
    "knn_recipe <- recipe(SKL ~ STG + RNG + STR + EPR + EPG, data = knowledge_training)\n",
    "\n",
    "# Create the knn spec to find the best k- value \n",
    "knn_tune <- nearest_neighbor(weight_func = \"rectangular\", neighbors = tune()) %>%\n",
    "    set_engine(\"kknn\") %>%\n",
    "    set_mode(\"classification\")\n",
    "\n",
    "# Create the v-fold \n",
    "knowledge_vfold <- vfold_cv(knowledge_training, v = 5, strata = SKL)\n",
    "\n",
    "# Create the workflow and collect statistics\n",
    "knn_results <- workflow() %>%\n",
    "    add_recipe(knn_recipe) %>%\n",
    "    add_model(knn_tune) %>%\n",
    "    tune_grid(resamples = knowledge_vfold, grid = 10) %>%\n",
    "    collect_metrics()\n",
    "\n",
    "# Calculate and plot accuracy estimates\n",
    "accuracies <- knn_results %>%\n",
    "    filter(.metric == \"accuracy\")\n",
    "accuracy_versus_k <- ggplot(accuracies, aes(x = neighbors, y = mean)) + \n",
    "    geom_point() +\n",
    "    geom_line() +\n",
    "    labs(x = \"Neighbors\", y = \"Accuracy Estimate\") +\n",
    "    scale_x_continuous(breaks = seq(0, 30, by = 1)) +\n",
    "    scale_y_continuous(limits = c(0.7, 0.9))\n",
    "accuracy_versus_k"
   ]
  },
  {
   "cell_type": "markdown",
   "metadata": {},
   "source": [
    "Based on the plot above, we see that k = 4 would be a good choice for our k since this gives us the highest accuracy estimate, and choosing values close to k = 4 would not decrease our accuracy by so much.\n",
    "\n",
    "Now, we use our best choice of k to create our final fit model. "
   ]
  },
  {
   "cell_type": "code",
   "execution_count": null,
   "metadata": {},
   "outputs": [],
   "source": [
    "knn_spec <- nearest_neighbor(weight_func = \"rectangular\", neighbors = 4) %>%\n",
    "    set_engine(\"kknn\") %>%\n",
    "    set_mode(\"classification\")\n",
    "knn_fit <- knn_spec %>%\n",
    "    fit(Class ~ Symmetry + Radius, data = cancer)\n",
    "# knn_results <- workflow() %>%\n",
    "#     add_recipe(knn_recipe) %>%\n",
    "#     add_model(knn_spec) %>%\n",
    "#     tune_grid(resamples = knowledge_vfold, grid = 10) %>%\n",
    "#     collect_metrics()\n",
    "# knn_results\n",
    "knn_fit"
   ]
  },
  {
   "cell_type": "code",
   "execution_count": null,
   "metadata": {},
   "outputs": [],
   "source": []
  }
 ],
 "metadata": {
  "kernelspec": {
   "display_name": "R",
   "language": "R",
   "name": "ir"
  },
  "language_info": {
   "codemirror_mode": "r",
   "file_extension": ".r",
   "mimetype": "text/x-r-source",
   "name": "R",
   "pygments_lexer": "r",
   "version": "4.0.0"
  }
 },
 "nbformat": 4,
 "nbformat_minor": 4
}
