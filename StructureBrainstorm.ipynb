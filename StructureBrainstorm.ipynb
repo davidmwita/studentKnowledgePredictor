{
 "cells": [
  {
   "cell_type": "markdown",
   "metadata": {},
   "source": [
    "## STRUCTURE BRAINSTORM\n",
    "\n",
    "1. Reading CSV/Preprocessing \n",
    "\n",
    "2. Preliminary data analysis & visualizations: \n",
    "    - study times vs knowlege levels\n",
    "    \n",
    "3. determining which model to use (knn/linear reg) and why \n",
    "    - classification problem, therefore knn is best\n",
    "    \n",
    "4. building the model\n",
    "    - model spec\n",
    "    - recipe\n",
    "    - tuning the model to find best $k$\n",
    "        - cross validation\n",
    "        - vizualize k vs accuracy\n",
    "    - with best k:\n",
    "        - build final model\n",
    "        - test the model on a sample dataset\n",
    "\n",
    "5. evaluating the model: \n",
    "    - run the model against our testing data set\n",
    "    - get metrics\n",
    "    - get accuracy\n",
    "    - confusion matrix\n",
    "\n",
    "6. discussions\n",
    "    - summarize what you found\n",
    "    - discuss whether this is what you expected to find?\n",
    "    - discuss what impact could such findings have?\n",
    "    - discuss what future questions could this lead to?"
   ]
  }
 ],
 "metadata": {
  "kernelspec": {
   "display_name": "R",
   "language": "R",
   "name": "ir"
  },
  "language_info": {
   "codemirror_mode": "r",
   "file_extension": ".r",
   "mimetype": "text/x-r-source",
   "name": "R",
   "pygments_lexer": "r",
   "version": "4.0.0"
  }
 },
 "nbformat": 4,
 "nbformat_minor": 4
}
