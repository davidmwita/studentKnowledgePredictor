{
 "cells": [
  {
   "cell_type": "markdown",
   "metadata": {},
   "source": [
    "# Determining Student Knowledge Status"
   ]
  },
  {
   "cell_type": "markdown",
   "metadata": {},
   "source": [
    "Questions for TA:\n",
    "1. Are we supposed to wrangle our test data like we do our training data? Or is this supposed to be in a recipe?\n",
    "2. Is the wide table format we're currently using tidy? Or do we need to change it up?\n",
    "    - can we use a long format for visualization and the wide for building the model?\n",
    "3. Given our variables are normalized, do we need to add step_scale and step_center to our recipe?\n",
    "4. We set the seed ONCE, correct?"
   ]
  },
  {
   "cell_type": "markdown",
   "metadata": {},
   "source": [
    "### Introduction"
   ]
  },
  {
   "cell_type": "markdown",
   "metadata": {},
   "source": [
    "Understanding how student study methods and examination results affect the retention of information is essential to create better teaching and learning methodologies. At a university in Turkey, Ph.D students collected data on undergraduate students' understanding of Electrical DC Machines. They utilized five normalized characteristics to determine the knowledge level of students from very low to high. The five variables included the amount of study time, number of repetitions and exam performance for goal object materials as well as the amount of study time and exam performance for related objects with the goal object.\n",
    "\n",
    "Through this project, we propose to answer the following question: \n",
    "\n",
    "> *Given the degree of preparation and examination results of a student, what will be the knowledge retention level of said student?* \n",
    "\n",
    "We aim to achieve this by training a model that, given the five aforementioned characteristics, will classify the knowledge level of a student. "
   ]
  },
  {
   "cell_type": "markdown",
   "metadata": {},
   "source": [
    "### Preliminary Exploratory Data Analysis"
   ]
  },
  {
   "cell_type": "code",
   "execution_count": 2,
   "metadata": {},
   "outputs": [
    {
     "name": "stderr",
     "output_type": "stream",
     "text": [
      "── \u001b[1mAttaching packages\u001b[22m ─────────────────────────────────────── tidyverse 1.3.0 ──\n",
      "\n",
      "\u001b[32m✔\u001b[39m \u001b[34mggplot2\u001b[39m 3.3.2     \u001b[32m✔\u001b[39m \u001b[34mpurrr  \u001b[39m 0.3.4\n",
      "\u001b[32m✔\u001b[39m \u001b[34mtibble \u001b[39m 3.0.3     \u001b[32m✔\u001b[39m \u001b[34mdplyr  \u001b[39m 1.0.2\n",
      "\u001b[32m✔\u001b[39m \u001b[34mtidyr  \u001b[39m 1.1.2     \u001b[32m✔\u001b[39m \u001b[34mstringr\u001b[39m 1.4.0\n",
      "\u001b[32m✔\u001b[39m \u001b[34mreadr  \u001b[39m 1.3.1     \u001b[32m✔\u001b[39m \u001b[34mforcats\u001b[39m 0.5.0\n",
      "\n",
      "Warning message:\n",
      "“package ‘ggplot2’ was built under R version 4.0.1”\n",
      "Warning message:\n",
      "“package ‘tibble’ was built under R version 4.0.2”\n",
      "Warning message:\n",
      "“package ‘tidyr’ was built under R version 4.0.2”\n",
      "Warning message:\n",
      "“package ‘dplyr’ was built under R version 4.0.2”\n",
      "── \u001b[1mConflicts\u001b[22m ────────────────────────────────────────── tidyverse_conflicts() ──\n",
      "\u001b[31m✖\u001b[39m \u001b[34mdplyr\u001b[39m::\u001b[32mfilter()\u001b[39m masks \u001b[34mstats\u001b[39m::filter()\n",
      "\u001b[31m✖\u001b[39m \u001b[34mdplyr\u001b[39m::\u001b[32mlag()\u001b[39m    masks \u001b[34mstats\u001b[39m::lag()\n",
      "\n",
      "Warning message:\n",
      "“package ‘tidymodels’ was built under R version 4.0.2”\n",
      "── \u001b[1mAttaching packages\u001b[22m ────────────────────────────────────── tidymodels 0.1.1 ──\n",
      "\n",
      "\u001b[32m✔\u001b[39m \u001b[34mbroom    \u001b[39m 0.7.0      \u001b[32m✔\u001b[39m \u001b[34mrecipes  \u001b[39m 0.1.13\n",
      "\u001b[32m✔\u001b[39m \u001b[34mdials    \u001b[39m 0.0.9      \u001b[32m✔\u001b[39m \u001b[34mrsample  \u001b[39m 0.0.7 \n",
      "\u001b[32m✔\u001b[39m \u001b[34minfer    \u001b[39m 0.5.4      \u001b[32m✔\u001b[39m \u001b[34mtune     \u001b[39m 0.1.1 \n",
      "\u001b[32m✔\u001b[39m \u001b[34mmodeldata\u001b[39m 0.0.2      \u001b[32m✔\u001b[39m \u001b[34mworkflows\u001b[39m 0.2.0 \n",
      "\u001b[32m✔\u001b[39m \u001b[34mparsnip  \u001b[39m 0.1.3      \u001b[32m✔\u001b[39m \u001b[34myardstick\u001b[39m 0.0.7 \n",
      "\n",
      "Warning message:\n",
      "“package ‘broom’ was built under R version 4.0.2”\n",
      "Warning message:\n",
      "“package ‘dials’ was built under R version 4.0.2”\n",
      "Warning message:\n",
      "“package ‘infer’ was built under R version 4.0.3”\n",
      "Warning message:\n",
      "“package ‘modeldata’ was built under R version 4.0.1”\n",
      "Warning message:\n",
      "“package ‘parsnip’ was built under R version 4.0.2”\n",
      "Warning message:\n",
      "“package ‘recipes’ was built under R version 4.0.1”\n",
      "Warning message:\n",
      "“package ‘tune’ was built under R version 4.0.2”\n",
      "Warning message:\n",
      "“package ‘workflows’ was built under R version 4.0.2”\n",
      "Warning message:\n",
      "“package ‘yardstick’ was built under R version 4.0.2”\n",
      "── \u001b[1mConflicts\u001b[22m ───────────────────────────────────────── tidymodels_conflicts() ──\n",
      "\u001b[31m✖\u001b[39m \u001b[34mscales\u001b[39m::\u001b[32mdiscard()\u001b[39m masks \u001b[34mpurrr\u001b[39m::discard()\n",
      "\u001b[31m✖\u001b[39m \u001b[34mdplyr\u001b[39m::\u001b[32mfilter()\u001b[39m   masks \u001b[34mstats\u001b[39m::filter()\n",
      "\u001b[31m✖\u001b[39m \u001b[34mrecipes\u001b[39m::\u001b[32mfixed()\u001b[39m  masks \u001b[34mstringr\u001b[39m::fixed()\n",
      "\u001b[31m✖\u001b[39m \u001b[34mdplyr\u001b[39m::\u001b[32mlag()\u001b[39m      masks \u001b[34mstats\u001b[39m::lag()\n",
      "\u001b[31m✖\u001b[39m \u001b[34myardstick\u001b[39m::\u001b[32mspec()\u001b[39m masks \u001b[34mreadr\u001b[39m::spec()\n",
      "\u001b[31m✖\u001b[39m \u001b[34mrecipes\u001b[39m::\u001b[32mstep()\u001b[39m   masks \u001b[34mstats\u001b[39m::step()\n",
      "\n"
     ]
    }
   ],
   "source": [
    "## Run this cell before continuing\n",
    "library(tidyverse)\n",
    "library(readxl)\n",
    "library(repr)\n",
    "library(tidymodels)"
   ]
  },
  {
   "cell_type": "markdown",
   "metadata": {},
   "source": [
    "The dataset we will be using is the **User Knowledge Modeling Data Set** provided by the *UCI Machine Learning Repository*, linked [here](https://archive.ics.uci.edu/ml/datasets/User+Knowledge+Modeling).\n",
    "\n",
    "This dataset has the following variables:\n",
    "- `STG`: The degree of study time for goal object materials\n",
    "- `SCG`: The degree of repetition number of user for goal object materials\n",
    "- `STR`: The degree of study time of user for related objects with goal object\n",
    "- `LPR`: The exam performance of user for related objects with goal object\n",
    "- `PEG`: The exam performance of user for goal objects\n",
    "- `UNS`: The knowledge level of user\n",
    "\n",
    "Utilizing the first five variables, we aim to predict the sixth variable, `UNS`, which is a student's knowledge level. The knowledge level variable has one of four possible labels: `High`, `Middle`, `Low` and `Very Low`."
   ]
  },
  {
   "cell_type": "markdown",
   "metadata": {},
   "source": [
    "The dataset is already split into training and testing data, so we do not have to perform an initial split to separate the data. Now, let's read in our training and testing data:"
   ]
  },
  {
   "cell_type": "code",
   "execution_count": 38,
   "metadata": {},
   "outputs": [
    {
     "name": "stderr",
     "output_type": "stream",
     "text": [
      "New names:\n",
      "* `` -> ...7\n",
      "* `` -> ...8\n",
      "\n",
      "New names:\n",
      "* `` -> ...7\n",
      "* `` -> ...8\n",
      "\n"
     ]
    },
    {
     "data": {
      "text/html": [
       "<table>\n",
       "<caption>A tibble: 5 × 6</caption>\n",
       "<thead>\n",
       "\t<tr><th scope=col>STG</th><th scope=col>SCG</th><th scope=col>STR</th><th scope=col>LPR</th><th scope=col>PEG</th><th scope=col>UNS</th></tr>\n",
       "\t<tr><th scope=col>&lt;dbl&gt;</th><th scope=col>&lt;dbl&gt;</th><th scope=col>&lt;dbl&gt;</th><th scope=col>&lt;dbl&gt;</th><th scope=col>&lt;dbl&gt;</th><th scope=col>&lt;chr&gt;</th></tr>\n",
       "</thead>\n",
       "<tbody>\n",
       "\t<tr><td>0.00</td><td>0.00</td><td>0.00</td><td>0.00</td><td>0.00</td><td>very_low</td></tr>\n",
       "\t<tr><td>0.08</td><td>0.08</td><td>0.10</td><td>0.24</td><td>0.90</td><td>High    </td></tr>\n",
       "\t<tr><td>0.06</td><td>0.06</td><td>0.05</td><td>0.25</td><td>0.33</td><td>Low     </td></tr>\n",
       "\t<tr><td>0.10</td><td>0.10</td><td>0.15</td><td>0.65</td><td>0.30</td><td>Middle  </td></tr>\n",
       "\t<tr><td>0.08</td><td>0.08</td><td>0.08</td><td>0.98</td><td>0.24</td><td>Low     </td></tr>\n",
       "</tbody>\n",
       "</table>\n"
      ],
      "text/latex": [
       "A tibble: 5 × 6\n",
       "\\begin{tabular}{llllll}\n",
       " STG & SCG & STR & LPR & PEG & UNS\\\\\n",
       " <dbl> & <dbl> & <dbl> & <dbl> & <dbl> & <chr>\\\\\n",
       "\\hline\n",
       "\t 0.00 & 0.00 & 0.00 & 0.00 & 0.00 & very\\_low\\\\\n",
       "\t 0.08 & 0.08 & 0.10 & 0.24 & 0.90 & High    \\\\\n",
       "\t 0.06 & 0.06 & 0.05 & 0.25 & 0.33 & Low     \\\\\n",
       "\t 0.10 & 0.10 & 0.15 & 0.65 & 0.30 & Middle  \\\\\n",
       "\t 0.08 & 0.08 & 0.08 & 0.98 & 0.24 & Low     \\\\\n",
       "\\end{tabular}\n"
      ],
      "text/markdown": [
       "\n",
       "A tibble: 5 × 6\n",
       "\n",
       "| STG &lt;dbl&gt; | SCG &lt;dbl&gt; | STR &lt;dbl&gt; | LPR &lt;dbl&gt; | PEG &lt;dbl&gt; | UNS &lt;chr&gt; |\n",
       "|---|---|---|---|---|---|\n",
       "| 0.00 | 0.00 | 0.00 | 0.00 | 0.00 | very_low |\n",
       "| 0.08 | 0.08 | 0.10 | 0.24 | 0.90 | High     |\n",
       "| 0.06 | 0.06 | 0.05 | 0.25 | 0.33 | Low      |\n",
       "| 0.10 | 0.10 | 0.15 | 0.65 | 0.30 | Middle   |\n",
       "| 0.08 | 0.08 | 0.08 | 0.98 | 0.24 | Low      |\n",
       "\n"
      ],
      "text/plain": [
       "  STG  SCG  STR  LPR  PEG  UNS     \n",
       "1 0.00 0.00 0.00 0.00 0.00 very_low\n",
       "2 0.08 0.08 0.10 0.24 0.90 High    \n",
       "3 0.06 0.06 0.05 0.25 0.33 Low     \n",
       "4 0.10 0.10 0.15 0.65 0.30 Middle  \n",
       "5 0.08 0.08 0.08 0.98 0.24 Low     "
      ]
     },
     "metadata": {},
     "output_type": "display_data"
    },
    {
     "data": {
      "text/html": [
       "<table>\n",
       "<caption>A tibble: 5 × 6</caption>\n",
       "<thead>\n",
       "\t<tr><th scope=col>STG</th><th scope=col>SCG</th><th scope=col>STR</th><th scope=col>LPR</th><th scope=col>PEG</th><th scope=col>UNS</th></tr>\n",
       "\t<tr><th scope=col>&lt;dbl&gt;</th><th scope=col>&lt;dbl&gt;</th><th scope=col>&lt;dbl&gt;</th><th scope=col>&lt;dbl&gt;</th><th scope=col>&lt;dbl&gt;</th><th scope=col>&lt;chr&gt;</th></tr>\n",
       "</thead>\n",
       "<tbody>\n",
       "\t<tr><td>0.00</td><td>0.10</td><td>0.50</td><td>0.26</td><td>0.05</td><td>Very Low</td></tr>\n",
       "\t<tr><td>0.05</td><td>0.05</td><td>0.55</td><td>0.60</td><td>0.14</td><td>Low     </td></tr>\n",
       "\t<tr><td>0.08</td><td>0.18</td><td>0.63</td><td>0.60</td><td>0.85</td><td>High    </td></tr>\n",
       "\t<tr><td>0.20</td><td>0.20</td><td>0.68</td><td>0.67</td><td>0.85</td><td>High    </td></tr>\n",
       "\t<tr><td>0.22</td><td>0.22</td><td>0.90</td><td>0.30</td><td>0.90</td><td>High    </td></tr>\n",
       "</tbody>\n",
       "</table>\n"
      ],
      "text/latex": [
       "A tibble: 5 × 6\n",
       "\\begin{tabular}{llllll}\n",
       " STG & SCG & STR & LPR & PEG & UNS\\\\\n",
       " <dbl> & <dbl> & <dbl> & <dbl> & <dbl> & <chr>\\\\\n",
       "\\hline\n",
       "\t 0.00 & 0.10 & 0.50 & 0.26 & 0.05 & Very Low\\\\\n",
       "\t 0.05 & 0.05 & 0.55 & 0.60 & 0.14 & Low     \\\\\n",
       "\t 0.08 & 0.18 & 0.63 & 0.60 & 0.85 & High    \\\\\n",
       "\t 0.20 & 0.20 & 0.68 & 0.67 & 0.85 & High    \\\\\n",
       "\t 0.22 & 0.22 & 0.90 & 0.30 & 0.90 & High    \\\\\n",
       "\\end{tabular}\n"
      ],
      "text/markdown": [
       "\n",
       "A tibble: 5 × 6\n",
       "\n",
       "| STG &lt;dbl&gt; | SCG &lt;dbl&gt; | STR &lt;dbl&gt; | LPR &lt;dbl&gt; | PEG &lt;dbl&gt; | UNS &lt;chr&gt; |\n",
       "|---|---|---|---|---|---|\n",
       "| 0.00 | 0.10 | 0.50 | 0.26 | 0.05 | Very Low |\n",
       "| 0.05 | 0.05 | 0.55 | 0.60 | 0.14 | Low      |\n",
       "| 0.08 | 0.18 | 0.63 | 0.60 | 0.85 | High     |\n",
       "| 0.20 | 0.20 | 0.68 | 0.67 | 0.85 | High     |\n",
       "| 0.22 | 0.22 | 0.90 | 0.30 | 0.90 | High     |\n",
       "\n"
      ],
      "text/plain": [
       "  STG  SCG  STR  LPR  PEG  UNS     \n",
       "1 0.00 0.10 0.50 0.26 0.05 Very Low\n",
       "2 0.05 0.05 0.55 0.60 0.14 Low     \n",
       "3 0.08 0.18 0.63 0.60 0.85 High    \n",
       "4 0.20 0.20 0.68 0.67 0.85 High    \n",
       "5 0.22 0.22 0.90 0.30 0.90 High    "
      ]
     },
     "metadata": {},
     "output_type": "display_data"
    }
   ],
   "source": [
    "url <- \"https://archive.ics.uci.edu/ml/machine-learning-databases/00257/Data_User_Modeling_Dataset_Hamdi%20Tolga%20KAHRAMAN.xls\"\n",
    "\n",
    "download.file(url, destfile = \"data/Data_User_Modeling_Dataset.xls\")\n",
    "\n",
    "knowledge_training <- read_excel(\"data/Data_User_Modeling_Dataset.xls\", sheet = 2) %>%\n",
    "    select(STG:UNS)\n",
    "\n",
    "knowledge_testing <- read_excel(\"data/Data_User_Modeling_Dataset.xls\", sheet = 3) %>%\n",
    "    select(STG:UNS)\n",
    "\n",
    "head(knowledge_training, n = 5)\n",
    "head(knowledge_testing, n = 5)"
   ]
  },
  {
   "cell_type": "markdown",
   "metadata": {},
   "source": [
    "Note that the first five variables are already normalized to be in the range [0, 1], where a higher number is associated with a higher degree of preparation or a higher exam performance. This will actually make things easier for us when training our classification model!\n",
    "\n",
    "Additionaly, note that out of all category names, only `STG` and `STR` properly communicate what they represent. Let's change the variable names to the following, which better communicate what they represent:\n",
    "- `STG`: Study Time degree for Goal object materials\n",
    "- `RNG`: Repetition Number degree for Goal object materials\n",
    "- `STR`: Study Time degree for Related objects with goal object materials\n",
    "- `EPR`: Exam Performance for Related objects with goal objects\n",
    "- `EPG`: Exam Performance for Goal object\n",
    "- `SKL`: Student Knowledge Level"
   ]
  },
  {
   "cell_type": "code",
   "execution_count": 39,
   "metadata": {},
   "outputs": [
    {
     "data": {
      "text/html": [
       "<table>\n",
       "<caption>A tibble: 5 × 6</caption>\n",
       "<thead>\n",
       "\t<tr><th scope=col>STG</th><th scope=col>RNG</th><th scope=col>STR</th><th scope=col>EPR</th><th scope=col>EPG</th><th scope=col>SKL</th></tr>\n",
       "\t<tr><th scope=col>&lt;dbl&gt;</th><th scope=col>&lt;dbl&gt;</th><th scope=col>&lt;dbl&gt;</th><th scope=col>&lt;dbl&gt;</th><th scope=col>&lt;dbl&gt;</th><th scope=col>&lt;chr&gt;</th></tr>\n",
       "</thead>\n",
       "<tbody>\n",
       "\t<tr><td>0.00</td><td>0.00</td><td>0.00</td><td>0.00</td><td>0.00</td><td>very_low</td></tr>\n",
       "\t<tr><td>0.08</td><td>0.08</td><td>0.10</td><td>0.24</td><td>0.90</td><td>High    </td></tr>\n",
       "\t<tr><td>0.06</td><td>0.06</td><td>0.05</td><td>0.25</td><td>0.33</td><td>Low     </td></tr>\n",
       "\t<tr><td>0.10</td><td>0.10</td><td>0.15</td><td>0.65</td><td>0.30</td><td>Middle  </td></tr>\n",
       "\t<tr><td>0.08</td><td>0.08</td><td>0.08</td><td>0.98</td><td>0.24</td><td>Low     </td></tr>\n",
       "</tbody>\n",
       "</table>\n"
      ],
      "text/latex": [
       "A tibble: 5 × 6\n",
       "\\begin{tabular}{llllll}\n",
       " STG & RNG & STR & EPR & EPG & SKL\\\\\n",
       " <dbl> & <dbl> & <dbl> & <dbl> & <dbl> & <chr>\\\\\n",
       "\\hline\n",
       "\t 0.00 & 0.00 & 0.00 & 0.00 & 0.00 & very\\_low\\\\\n",
       "\t 0.08 & 0.08 & 0.10 & 0.24 & 0.90 & High    \\\\\n",
       "\t 0.06 & 0.06 & 0.05 & 0.25 & 0.33 & Low     \\\\\n",
       "\t 0.10 & 0.10 & 0.15 & 0.65 & 0.30 & Middle  \\\\\n",
       "\t 0.08 & 0.08 & 0.08 & 0.98 & 0.24 & Low     \\\\\n",
       "\\end{tabular}\n"
      ],
      "text/markdown": [
       "\n",
       "A tibble: 5 × 6\n",
       "\n",
       "| STG &lt;dbl&gt; | RNG &lt;dbl&gt; | STR &lt;dbl&gt; | EPR &lt;dbl&gt; | EPG &lt;dbl&gt; | SKL &lt;chr&gt; |\n",
       "|---|---|---|---|---|---|\n",
       "| 0.00 | 0.00 | 0.00 | 0.00 | 0.00 | very_low |\n",
       "| 0.08 | 0.08 | 0.10 | 0.24 | 0.90 | High     |\n",
       "| 0.06 | 0.06 | 0.05 | 0.25 | 0.33 | Low      |\n",
       "| 0.10 | 0.10 | 0.15 | 0.65 | 0.30 | Middle   |\n",
       "| 0.08 | 0.08 | 0.08 | 0.98 | 0.24 | Low      |\n",
       "\n"
      ],
      "text/plain": [
       "  STG  RNG  STR  EPR  EPG  SKL     \n",
       "1 0.00 0.00 0.00 0.00 0.00 very_low\n",
       "2 0.08 0.08 0.10 0.24 0.90 High    \n",
       "3 0.06 0.06 0.05 0.25 0.33 Low     \n",
       "4 0.10 0.10 0.15 0.65 0.30 Middle  \n",
       "5 0.08 0.08 0.08 0.98 0.24 Low     "
      ]
     },
     "metadata": {},
     "output_type": "display_data"
    },
    {
     "data": {
      "text/html": [
       "<table>\n",
       "<caption>A tibble: 5 × 6</caption>\n",
       "<thead>\n",
       "\t<tr><th scope=col>STG</th><th scope=col>RNG</th><th scope=col>STR</th><th scope=col>EPR</th><th scope=col>EPG</th><th scope=col>SKL</th></tr>\n",
       "\t<tr><th scope=col>&lt;dbl&gt;</th><th scope=col>&lt;dbl&gt;</th><th scope=col>&lt;dbl&gt;</th><th scope=col>&lt;dbl&gt;</th><th scope=col>&lt;dbl&gt;</th><th scope=col>&lt;chr&gt;</th></tr>\n",
       "</thead>\n",
       "<tbody>\n",
       "\t<tr><td>0.00</td><td>0.10</td><td>0.50</td><td>0.26</td><td>0.05</td><td>Very Low</td></tr>\n",
       "\t<tr><td>0.05</td><td>0.05</td><td>0.55</td><td>0.60</td><td>0.14</td><td>Low     </td></tr>\n",
       "\t<tr><td>0.08</td><td>0.18</td><td>0.63</td><td>0.60</td><td>0.85</td><td>High    </td></tr>\n",
       "\t<tr><td>0.20</td><td>0.20</td><td>0.68</td><td>0.67</td><td>0.85</td><td>High    </td></tr>\n",
       "\t<tr><td>0.22</td><td>0.22</td><td>0.90</td><td>0.30</td><td>0.90</td><td>High    </td></tr>\n",
       "</tbody>\n",
       "</table>\n"
      ],
      "text/latex": [
       "A tibble: 5 × 6\n",
       "\\begin{tabular}{llllll}\n",
       " STG & RNG & STR & EPR & EPG & SKL\\\\\n",
       " <dbl> & <dbl> & <dbl> & <dbl> & <dbl> & <chr>\\\\\n",
       "\\hline\n",
       "\t 0.00 & 0.10 & 0.50 & 0.26 & 0.05 & Very Low\\\\\n",
       "\t 0.05 & 0.05 & 0.55 & 0.60 & 0.14 & Low     \\\\\n",
       "\t 0.08 & 0.18 & 0.63 & 0.60 & 0.85 & High    \\\\\n",
       "\t 0.20 & 0.20 & 0.68 & 0.67 & 0.85 & High    \\\\\n",
       "\t 0.22 & 0.22 & 0.90 & 0.30 & 0.90 & High    \\\\\n",
       "\\end{tabular}\n"
      ],
      "text/markdown": [
       "\n",
       "A tibble: 5 × 6\n",
       "\n",
       "| STG &lt;dbl&gt; | RNG &lt;dbl&gt; | STR &lt;dbl&gt; | EPR &lt;dbl&gt; | EPG &lt;dbl&gt; | SKL &lt;chr&gt; |\n",
       "|---|---|---|---|---|---|\n",
       "| 0.00 | 0.10 | 0.50 | 0.26 | 0.05 | Very Low |\n",
       "| 0.05 | 0.05 | 0.55 | 0.60 | 0.14 | Low      |\n",
       "| 0.08 | 0.18 | 0.63 | 0.60 | 0.85 | High     |\n",
       "| 0.20 | 0.20 | 0.68 | 0.67 | 0.85 | High     |\n",
       "| 0.22 | 0.22 | 0.90 | 0.30 | 0.90 | High     |\n",
       "\n"
      ],
      "text/plain": [
       "  STG  RNG  STR  EPR  EPG  SKL     \n",
       "1 0.00 0.10 0.50 0.26 0.05 Very Low\n",
       "2 0.05 0.05 0.55 0.60 0.14 Low     \n",
       "3 0.08 0.18 0.63 0.60 0.85 High    \n",
       "4 0.20 0.20 0.68 0.67 0.85 High    \n",
       "5 0.22 0.22 0.90 0.30 0.90 High    "
      ]
     },
     "metadata": {},
     "output_type": "display_data"
    }
   ],
   "source": [
    "knowledge_testing <- knowledge_testing %>%\n",
    "    rename(RNG = SCG,\n",
    "           EPR = LPR, \n",
    "           EPG = PEG,\n",
    "           SKL = UNS)\n",
    "\n",
    "knowledge_training <- knowledge_training %>%\n",
    "    rename(RNG = SCG,\n",
    "           EPR = LPR, \n",
    "           EPG = PEG,\n",
    "           SKL = UNS)\n",
    "\n",
    "head(knowledge_training, n = 5)\n",
    "head(knowledge_testing, n = 5)"
   ]
  },
  {
   "cell_type": "markdown",
   "metadata": {},
   "source": [
    "That's better. Let's continue tidying up the data! \n",
    "\n",
    "As we can see from the above dataframes, the labelling done on the test and training sets are different! In particular, the label representing a very low knowledge level varies. In the test dataset it's 'Very Low' and in the training dataset it's 'very_low'.\n",
    "\n",
    "This may not be the only difference, so let's compare the labels present in both the test and training datasets."
   ]
  },
  {
   "cell_type": "code",
   "execution_count": 40,
   "metadata": {},
   "outputs": [
    {
     "data": {
      "text/html": [
       "<style>\n",
       ".list-inline {list-style: none; margin:0; padding: 0}\n",
       ".list-inline>li {display: inline-block}\n",
       ".list-inline>li:not(:last-child)::after {content: \"\\00b7\"; padding: 0 .5ex}\n",
       "</style>\n",
       "<ol class=list-inline><li>'very_low'</li><li>'High'</li><li>'Low'</li><li>'Middle'</li></ol>\n"
      ],
      "text/latex": [
       "\\begin{enumerate*}\n",
       "\\item 'very\\_low'\n",
       "\\item 'High'\n",
       "\\item 'Low'\n",
       "\\item 'Middle'\n",
       "\\end{enumerate*}\n"
      ],
      "text/markdown": [
       "1. 'very_low'\n",
       "2. 'High'\n",
       "3. 'Low'\n",
       "4. 'Middle'\n",
       "\n",
       "\n"
      ],
      "text/plain": [
       "[1] \"very_low\" \"High\"     \"Low\"      \"Middle\"  "
      ]
     },
     "metadata": {},
     "output_type": "display_data"
    }
   ],
   "source": [
    "knowledge_training %>%\n",
    "    pull(SKL) %>%\n",
    "    unique()"
   ]
  },
  {
   "cell_type": "code",
   "execution_count": 41,
   "metadata": {},
   "outputs": [
    {
     "data": {
      "text/html": [
       "<style>\n",
       ".list-inline {list-style: none; margin:0; padding: 0}\n",
       ".list-inline>li {display: inline-block}\n",
       ".list-inline>li:not(:last-child)::after {content: \"\\00b7\"; padding: 0 .5ex}\n",
       "</style>\n",
       "<ol class=list-inline><li>'Very Low'</li><li>'Low'</li><li>'High'</li><li>'Middle'</li></ol>\n"
      ],
      "text/latex": [
       "\\begin{enumerate*}\n",
       "\\item 'Very Low'\n",
       "\\item 'Low'\n",
       "\\item 'High'\n",
       "\\item 'Middle'\n",
       "\\end{enumerate*}\n"
      ],
      "text/markdown": [
       "1. 'Very Low'\n",
       "2. 'Low'\n",
       "3. 'High'\n",
       "4. 'Middle'\n",
       "\n",
       "\n"
      ],
      "text/plain": [
       "[1] \"Very Low\" \"Low\"      \"High\"     \"Middle\"  "
      ]
     },
     "metadata": {},
     "output_type": "display_data"
    }
   ],
   "source": [
    "knowledge_testing %>%\n",
    "    pull(SKL) %>%\n",
    "    unique()"
   ]
  },
  {
   "cell_type": "markdown",
   "metadata": {},
   "source": [
    "As we can see, the only difference between the two sets of labels are for the very low category of knowlege. A few changes will fix this right up and make the data easier to work with:\n",
    "- Firstly, we will remove the underscore in the label 'very_low' in the training dataset\n",
    "- Secondly, we will transform all knowledge level (SKL) labels to lower case\n",
    "- Then we'll transform the knowledge level (SKL) column to be a factor column (instead of the current character column)\n",
    "- And, finally, we'll order the different levels to be in ascending order"
   ]
  },
  {
   "cell_type": "code",
   "execution_count": 42,
   "metadata": {},
   "outputs": [
    {
     "data": {
      "text/html": [
       "<style>\n",
       ".list-inline {list-style: none; margin:0; padding: 0}\n",
       ".list-inline>li {display: inline-block}\n",
       ".list-inline>li:not(:last-child)::after {content: \"\\00b7\"; padding: 0 .5ex}\n",
       "</style>\n",
       "<ol class=list-inline><li>'very low'</li><li>'high'</li><li>'low'</li><li>'middle'</li></ol>\n"
      ],
      "text/latex": [
       "\\begin{enumerate*}\n",
       "\\item 'very low'\n",
       "\\item 'high'\n",
       "\\item 'low'\n",
       "\\item 'middle'\n",
       "\\end{enumerate*}\n"
      ],
      "text/markdown": [
       "1. 'very low'\n",
       "2. 'high'\n",
       "3. 'low'\n",
       "4. 'middle'\n",
       "\n",
       "\n"
      ],
      "text/plain": [
       "[1] \"very low\" \"high\"     \"low\"      \"middle\"  "
      ]
     },
     "metadata": {},
     "output_type": "display_data"
    }
   ],
   "source": [
    "# remove the underscore\n",
    "knowledge_training <- knowledge_training %>%\n",
    "    mutate(SKL = replace(knowledge_training$SKL, knowledge_training$SKL == \"very_low\", \"very low\"))\n",
    "\n",
    "# change label to a factor\n",
    "knowledge_training <- knowledge_training %>%\n",
    "    mutate(SKL = as_factor(tolower(SKL)))\n",
    "\n",
    "knowledge_training %>%\n",
    "    pull(SKL) %>%\n",
    "    levels()"
   ]
  },
  {
   "cell_type": "markdown",
   "metadata": {},
   "source": [
    "The levels for the training set look good, let's just order them:"
   ]
  },
  {
   "cell_type": "code",
   "execution_count": 43,
   "metadata": {},
   "outputs": [
    {
     "data": {
      "text/html": [
       "<style>\n",
       ".list-inline {list-style: none; margin:0; padding: 0}\n",
       ".list-inline>li {display: inline-block}\n",
       ".list-inline>li:not(:last-child)::after {content: \"\\00b7\"; padding: 0 .5ex}\n",
       "</style>\n",
       "<ol class=list-inline><li>'very low'</li><li>'low'</li><li>'middle'</li><li>'high'</li></ol>\n"
      ],
      "text/latex": [
       "\\begin{enumerate*}\n",
       "\\item 'very low'\n",
       "\\item 'low'\n",
       "\\item 'middle'\n",
       "\\item 'high'\n",
       "\\end{enumerate*}\n"
      ],
      "text/markdown": [
       "1. 'very low'\n",
       "2. 'low'\n",
       "3. 'middle'\n",
       "4. 'high'\n",
       "\n",
       "\n"
      ],
      "text/plain": [
       "[1] \"very low\" \"low\"      \"middle\"   \"high\"    "
      ]
     },
     "metadata": {},
     "output_type": "display_data"
    }
   ],
   "source": [
    "knowledge_training$SKL <- factor(knowledge_training$SKL, levels=c(\"very low\", \"low\", \"middle\", \"high\"))\n",
    "knowledge_training %>%\n",
    "    pull(SKL) %>%\n",
    "    levels()"
   ]
  },
  {
   "cell_type": "markdown",
   "metadata": {},
   "source": [
    "Onto the testing dataset:"
   ]
  },
  {
   "cell_type": "code",
   "execution_count": 44,
   "metadata": {},
   "outputs": [
    {
     "data": {
      "text/html": [
       "<style>\n",
       ".list-inline {list-style: none; margin:0; padding: 0}\n",
       ".list-inline>li {display: inline-block}\n",
       ".list-inline>li:not(:last-child)::after {content: \"\\00b7\"; padding: 0 .5ex}\n",
       "</style>\n",
       "<ol class=list-inline><li>'very low'</li><li>'low'</li><li>'high'</li><li>'middle'</li></ol>\n"
      ],
      "text/latex": [
       "\\begin{enumerate*}\n",
       "\\item 'very low'\n",
       "\\item 'low'\n",
       "\\item 'high'\n",
       "\\item 'middle'\n",
       "\\end{enumerate*}\n"
      ],
      "text/markdown": [
       "1. 'very low'\n",
       "2. 'low'\n",
       "3. 'high'\n",
       "4. 'middle'\n",
       "\n",
       "\n"
      ],
      "text/plain": [
       "[1] \"very low\" \"low\"      \"high\"     \"middle\"  "
      ]
     },
     "metadata": {},
     "output_type": "display_data"
    }
   ],
   "source": [
    "knowledge_testing <- knowledge_testing %>%\n",
    "    mutate(SKL = as_factor(tolower(SKL)))\n",
    "\n",
    "knowledge_testing %>%\n",
    "    pull(SKL) %>%\n",
    "    levels()"
   ]
  },
  {
   "cell_type": "markdown",
   "metadata": {},
   "source": [
    "Again, let's order the levels:"
   ]
  },
  {
   "cell_type": "code",
   "execution_count": 45,
   "metadata": {},
   "outputs": [
    {
     "data": {
      "text/html": [
       "<style>\n",
       ".list-inline {list-style: none; margin:0; padding: 0}\n",
       ".list-inline>li {display: inline-block}\n",
       ".list-inline>li:not(:last-child)::after {content: \"\\00b7\"; padding: 0 .5ex}\n",
       "</style>\n",
       "<ol class=list-inline><li>'very low'</li><li>'low'</li><li>'middle'</li><li>'high'</li></ol>\n"
      ],
      "text/latex": [
       "\\begin{enumerate*}\n",
       "\\item 'very low'\n",
       "\\item 'low'\n",
       "\\item 'middle'\n",
       "\\item 'high'\n",
       "\\end{enumerate*}\n"
      ],
      "text/markdown": [
       "1. 'very low'\n",
       "2. 'low'\n",
       "3. 'middle'\n",
       "4. 'high'\n",
       "\n",
       "\n"
      ],
      "text/plain": [
       "[1] \"very low\" \"low\"      \"middle\"   \"high\"    "
      ]
     },
     "metadata": {},
     "output_type": "display_data"
    }
   ],
   "source": [
    "knowledge_testing$SKL <- factor(knowledge_testing$SKL, levels=c(\"very low\", \"low\", \"middle\", \"high\"))\n",
    "knowledge_testing %>%\n",
    "    pull(SKL) %>%\n",
    "    levels()"
   ]
  },
  {
   "cell_type": "markdown",
   "metadata": {},
   "source": [
    "Perfect! Now that our class labels are consistent across datasets, let's have a final look:"
   ]
  },
  {
   "cell_type": "code",
   "execution_count": 46,
   "metadata": {},
   "outputs": [
    {
     "data": {
      "text/html": [
       "<table>\n",
       "<caption>A tibble: 4 × 6</caption>\n",
       "<thead>\n",
       "\t<tr><th scope=col>STG</th><th scope=col>RNG</th><th scope=col>STR</th><th scope=col>EPR</th><th scope=col>EPG</th><th scope=col>SKL</th></tr>\n",
       "\t<tr><th scope=col>&lt;dbl&gt;</th><th scope=col>&lt;dbl&gt;</th><th scope=col>&lt;dbl&gt;</th><th scope=col>&lt;dbl&gt;</th><th scope=col>&lt;dbl&gt;</th><th scope=col>&lt;fct&gt;</th></tr>\n",
       "</thead>\n",
       "<tbody>\n",
       "\t<tr><td>0.00</td><td>0.00</td><td>0.00</td><td>0.00</td><td>0.00</td><td>very low</td></tr>\n",
       "\t<tr><td>0.08</td><td>0.08</td><td>0.10</td><td>0.24</td><td>0.90</td><td>high    </td></tr>\n",
       "\t<tr><td>0.06</td><td>0.06</td><td>0.05</td><td>0.25</td><td>0.33</td><td>low     </td></tr>\n",
       "\t<tr><td>0.10</td><td>0.10</td><td>0.15</td><td>0.65</td><td>0.30</td><td>middle  </td></tr>\n",
       "</tbody>\n",
       "</table>\n"
      ],
      "text/latex": [
       "A tibble: 4 × 6\n",
       "\\begin{tabular}{llllll}\n",
       " STG & RNG & STR & EPR & EPG & SKL\\\\\n",
       " <dbl> & <dbl> & <dbl> & <dbl> & <dbl> & <fct>\\\\\n",
       "\\hline\n",
       "\t 0.00 & 0.00 & 0.00 & 0.00 & 0.00 & very low\\\\\n",
       "\t 0.08 & 0.08 & 0.10 & 0.24 & 0.90 & high    \\\\\n",
       "\t 0.06 & 0.06 & 0.05 & 0.25 & 0.33 & low     \\\\\n",
       "\t 0.10 & 0.10 & 0.15 & 0.65 & 0.30 & middle  \\\\\n",
       "\\end{tabular}\n"
      ],
      "text/markdown": [
       "\n",
       "A tibble: 4 × 6\n",
       "\n",
       "| STG &lt;dbl&gt; | RNG &lt;dbl&gt; | STR &lt;dbl&gt; | EPR &lt;dbl&gt; | EPG &lt;dbl&gt; | SKL &lt;fct&gt; |\n",
       "|---|---|---|---|---|---|\n",
       "| 0.00 | 0.00 | 0.00 | 0.00 | 0.00 | very low |\n",
       "| 0.08 | 0.08 | 0.10 | 0.24 | 0.90 | high     |\n",
       "| 0.06 | 0.06 | 0.05 | 0.25 | 0.33 | low      |\n",
       "| 0.10 | 0.10 | 0.15 | 0.65 | 0.30 | middle   |\n",
       "\n"
      ],
      "text/plain": [
       "  STG  RNG  STR  EPR  EPG  SKL     \n",
       "1 0.00 0.00 0.00 0.00 0.00 very low\n",
       "2 0.08 0.08 0.10 0.24 0.90 high    \n",
       "3 0.06 0.06 0.05 0.25 0.33 low     \n",
       "4 0.10 0.10 0.15 0.65 0.30 middle  "
      ]
     },
     "metadata": {},
     "output_type": "display_data"
    }
   ],
   "source": [
    "head(knowledge_training, n = 4)"
   ]
  },
  {
   "cell_type": "code",
   "execution_count": 47,
   "metadata": {},
   "outputs": [
    {
     "data": {
      "text/html": [
       "<table>\n",
       "<caption>A tibble: 4 × 6</caption>\n",
       "<thead>\n",
       "\t<tr><th scope=col>STG</th><th scope=col>RNG</th><th scope=col>STR</th><th scope=col>EPR</th><th scope=col>EPG</th><th scope=col>SKL</th></tr>\n",
       "\t<tr><th scope=col>&lt;dbl&gt;</th><th scope=col>&lt;dbl&gt;</th><th scope=col>&lt;dbl&gt;</th><th scope=col>&lt;dbl&gt;</th><th scope=col>&lt;dbl&gt;</th><th scope=col>&lt;fct&gt;</th></tr>\n",
       "</thead>\n",
       "<tbody>\n",
       "\t<tr><td>0.00</td><td>0.10</td><td>0.50</td><td>0.26</td><td>0.05</td><td>very low</td></tr>\n",
       "\t<tr><td>0.05</td><td>0.05</td><td>0.55</td><td>0.60</td><td>0.14</td><td>low     </td></tr>\n",
       "\t<tr><td>0.08</td><td>0.18</td><td>0.63</td><td>0.60</td><td>0.85</td><td>high    </td></tr>\n",
       "\t<tr><td>0.20</td><td>0.20</td><td>0.68</td><td>0.67</td><td>0.85</td><td>high    </td></tr>\n",
       "</tbody>\n",
       "</table>\n"
      ],
      "text/latex": [
       "A tibble: 4 × 6\n",
       "\\begin{tabular}{llllll}\n",
       " STG & RNG & STR & EPR & EPG & SKL\\\\\n",
       " <dbl> & <dbl> & <dbl> & <dbl> & <dbl> & <fct>\\\\\n",
       "\\hline\n",
       "\t 0.00 & 0.10 & 0.50 & 0.26 & 0.05 & very low\\\\\n",
       "\t 0.05 & 0.05 & 0.55 & 0.60 & 0.14 & low     \\\\\n",
       "\t 0.08 & 0.18 & 0.63 & 0.60 & 0.85 & high    \\\\\n",
       "\t 0.20 & 0.20 & 0.68 & 0.67 & 0.85 & high    \\\\\n",
       "\\end{tabular}\n"
      ],
      "text/markdown": [
       "\n",
       "A tibble: 4 × 6\n",
       "\n",
       "| STG &lt;dbl&gt; | RNG &lt;dbl&gt; | STR &lt;dbl&gt; | EPR &lt;dbl&gt; | EPG &lt;dbl&gt; | SKL &lt;fct&gt; |\n",
       "|---|---|---|---|---|---|\n",
       "| 0.00 | 0.10 | 0.50 | 0.26 | 0.05 | very low |\n",
       "| 0.05 | 0.05 | 0.55 | 0.60 | 0.14 | low      |\n",
       "| 0.08 | 0.18 | 0.63 | 0.60 | 0.85 | high     |\n",
       "| 0.20 | 0.20 | 0.68 | 0.67 | 0.85 | high     |\n",
       "\n"
      ],
      "text/plain": [
       "  STG  RNG  STR  EPR  EPG  SKL     \n",
       "1 0.00 0.10 0.50 0.26 0.05 very low\n",
       "2 0.05 0.05 0.55 0.60 0.14 low     \n",
       "3 0.08 0.18 0.63 0.60 0.85 high    \n",
       "4 0.20 0.20 0.68 0.67 0.85 high    "
      ]
     },
     "metadata": {},
     "output_type": "display_data"
    }
   ],
   "source": [
    "head(knowledge_testing, n = 4)"
   ]
  },
  {
   "cell_type": "markdown",
   "metadata": {},
   "source": [
    "There, that's more like it. Our data is now tidy, that is: \n",
    "- each row is a single observation (a student)\n",
    "- each column is a single variable, and \n",
    "- each cell contains a single value (normalized degree of study or exam performance)\n",
    "\n",
    "Now that we have properly wrangled the data, we can proceed to do the following:\n",
    "1. lock our test data in an imaginary box, only to be opened when evaluating the model we will build\n",
    "2. summarize our training data \n",
    "3. explore and visualize patterns/trends within the data\n",
    "\n",
    "After which, we will build our model."
   ]
  },
  {
   "cell_type": "markdown",
   "metadata": {},
   "source": [
    "First things first, let's summarize the data to gain some more insight. To do this, we create a table that will do the following for each knowledge level:\n",
    "1. report the number of observations\n",
    "2. report the predictor means, and \n",
    "3. report the number of rows that have missing data "
   ]
  },
  {
   "cell_type": "code",
   "execution_count": 48,
   "metadata": {},
   "outputs": [
    {
     "name": "stderr",
     "output_type": "stream",
     "text": [
      "`summarise()` ungrouping output (override with `.groups` argument)\n",
      "\n"
     ]
    },
    {
     "data": {
      "text/html": [
       "<table>\n",
       "<caption>A tibble: 4 × 8</caption>\n",
       "<thead>\n",
       "\t<tr><th scope=col>SKL</th><th scope=col>class_count</th><th scope=col>mean_stg</th><th scope=col>mean_rng</th><th scope=col>mean_str</th><th scope=col>mean_epr</th><th scope=col>mean_epg</th><th scope=col>missing_rows</th></tr>\n",
       "\t<tr><th scope=col>&lt;fct&gt;</th><th scope=col>&lt;int&gt;</th><th scope=col>&lt;dbl&gt;</th><th scope=col>&lt;dbl&gt;</th><th scope=col>&lt;dbl&gt;</th><th scope=col>&lt;dbl&gt;</th><th scope=col>&lt;dbl&gt;</th><th scope=col>&lt;int&gt;</th></tr>\n",
       "</thead>\n",
       "<tbody>\n",
       "\t<tr><td>very low</td><td>24</td><td>0.3057917</td><td>0.1981250</td><td>0.3662500</td><td>0.3587500</td><td>0.09083333</td><td>0</td></tr>\n",
       "\t<tr><td>low     </td><td>83</td><td>0.3211446</td><td>0.3370000</td><td>0.4307229</td><td>0.4973494</td><td>0.23762651</td><td>0</td></tr>\n",
       "\t<tr><td>middle  </td><td>88</td><td>0.3999773</td><td>0.3679205</td><td>0.5068182</td><td>0.3428409</td><td>0.54238636</td><td>0</td></tr>\n",
       "\t<tr><td>high    </td><td>63</td><td>0.4216508</td><td>0.4231905</td><td>0.5016667</td><td>0.5012698</td><td>0.77253968</td><td>0</td></tr>\n",
       "</tbody>\n",
       "</table>\n"
      ],
      "text/latex": [
       "A tibble: 4 × 8\n",
       "\\begin{tabular}{llllllll}\n",
       " SKL & class\\_count & mean\\_stg & mean\\_rng & mean\\_str & mean\\_epr & mean\\_epg & missing\\_rows\\\\\n",
       " <fct> & <int> & <dbl> & <dbl> & <dbl> & <dbl> & <dbl> & <int>\\\\\n",
       "\\hline\n",
       "\t very low & 24 & 0.3057917 & 0.1981250 & 0.3662500 & 0.3587500 & 0.09083333 & 0\\\\\n",
       "\t low      & 83 & 0.3211446 & 0.3370000 & 0.4307229 & 0.4973494 & 0.23762651 & 0\\\\\n",
       "\t middle   & 88 & 0.3999773 & 0.3679205 & 0.5068182 & 0.3428409 & 0.54238636 & 0\\\\\n",
       "\t high     & 63 & 0.4216508 & 0.4231905 & 0.5016667 & 0.5012698 & 0.77253968 & 0\\\\\n",
       "\\end{tabular}\n"
      ],
      "text/markdown": [
       "\n",
       "A tibble: 4 × 8\n",
       "\n",
       "| SKL &lt;fct&gt; | class_count &lt;int&gt; | mean_stg &lt;dbl&gt; | mean_rng &lt;dbl&gt; | mean_str &lt;dbl&gt; | mean_epr &lt;dbl&gt; | mean_epg &lt;dbl&gt; | missing_rows &lt;int&gt; |\n",
       "|---|---|---|---|---|---|---|---|\n",
       "| very low | 24 | 0.3057917 | 0.1981250 | 0.3662500 | 0.3587500 | 0.09083333 | 0 |\n",
       "| low      | 83 | 0.3211446 | 0.3370000 | 0.4307229 | 0.4973494 | 0.23762651 | 0 |\n",
       "| middle   | 88 | 0.3999773 | 0.3679205 | 0.5068182 | 0.3428409 | 0.54238636 | 0 |\n",
       "| high     | 63 | 0.4216508 | 0.4231905 | 0.5016667 | 0.5012698 | 0.77253968 | 0 |\n",
       "\n"
      ],
      "text/plain": [
       "  SKL      class_count mean_stg  mean_rng  mean_str  mean_epr  mean_epg  \n",
       "1 very low 24          0.3057917 0.1981250 0.3662500 0.3587500 0.09083333\n",
       "2 low      83          0.3211446 0.3370000 0.4307229 0.4973494 0.23762651\n",
       "3 middle   88          0.3999773 0.3679205 0.5068182 0.3428409 0.54238636\n",
       "4 high     63          0.4216508 0.4231905 0.5016667 0.5012698 0.77253968\n",
       "  missing_rows\n",
       "1 0           \n",
       "2 0           \n",
       "3 0           \n",
       "4 0           "
      ]
     },
     "metadata": {},
     "output_type": "display_data"
    }
   ],
   "source": [
    "summary_table <- knowledge_training %>%\n",
    "    group_by(SKL) %>%\n",
    "    summarize(class_count = n(),\n",
    "              mean_stg = mean(STG),\n",
    "              mean_rng = mean(RNG),\n",
    "              mean_str = mean(STR),\n",
    "              mean_epr = mean(EPR),\n",
    "              mean_epg = mean(EPG),\n",
    "              missing_rows = sum(is.na(SKL))) %>%\n",
    "    arrange(mean_epg)\n",
    "summary_table"
   ]
  },
  {
   "cell_type": "markdown",
   "metadata": {},
   "source": [
    "Wonderful! It appears that our target variable contains no missing values.\n",
    "\n",
    "Additionally, if you look at the different predictor means in relation to the student's knowledge level, we generally see that as the predictor mean increases, the student's knowledge level increases as well (with the exception of `EPR` which is a student's exam performance for related objects)! This gives us some intuition that we may see a positive relationship between these predictors and a student's knowledge level.\n",
    "\n",
    "Let's visualize the predictor - student knowlege level relationships to get a better understanding.\n",
    "\n",
    "LOOK HERE: https://www.datacamp.com/community/tutorials/facets-ggplot-r\n",
    "\n",
    "**CLARIFY**: maybe dataset isn't tidy..."
   ]
  },
  {
   "cell_type": "code",
   "execution_count": null,
   "metadata": {},
   "outputs": [],
   "source": [
    "# do visualization"
   ]
  },
  {
   "cell_type": "markdown",
   "metadata": {},
   "source": [
    "As we can see, there is a positive relationship between a student's knowlegde level `SKL` and the following:\n",
    "- the degree of study time for goal object materials, `STG`\n",
    "- the degree of repetition number for goal object materials, `RNG`\n",
    "- the degree of study time for related object materials, `STR` and\n",
    "- the exam performance for goal object materials, `EPG`\n",
    "\n",
    "This will be ..."
   ]
  },
  {
   "cell_type": "code",
   "execution_count": null,
   "metadata": {},
   "outputs": [],
   "source": []
  },
  {
   "cell_type": "code",
   "execution_count": null,
   "metadata": {},
   "outputs": [],
   "source": []
  },
  {
   "cell_type": "markdown",
   "metadata": {},
   "source": [
    "Fantastic, we can now begin building our model!\n",
    "\n",
    "Let's begin by selecting the type of model we will be building. Seeing as we aim to classify a student's knowledge level into one of four categories, our problem is one of classification by nature. While there are numerous classification algorithms available, we will use the K-Nearest Neighbors algorithm.\n",
    "\n",
    "< Description here of the knn algorithm >"
   ]
  },
  {
   "cell_type": "code",
   "execution_count": null,
   "metadata": {},
   "outputs": [],
   "source": []
  },
  {
   "cell_type": "code",
   "execution_count": null,
   "metadata": {},
   "outputs": [],
   "source": []
  },
  {
   "cell_type": "code",
   "execution_count": null,
   "metadata": {},
   "outputs": [],
   "source": []
  },
  {
   "cell_type": "code",
   "execution_count": null,
   "metadata": {},
   "outputs": [],
   "source": []
  },
  {
   "cell_type": "code",
   "execution_count": null,
   "metadata": {},
   "outputs": [],
   "source": []
  },
  {
   "cell_type": "code",
   "execution_count": 49,
   "metadata": {},
   "outputs": [
    {
     "data": {
      "image/png": "[encoded data removed]",
      "text/plain": [
       "plot without title"
      ]
     },
     "metadata": {
      "image/png": {
       "height": 420,
       "width": 720
      }
     },
     "output_type": "display_data"
    }
   ],
   "source": [
    "# these would go in the 'library' cell\n",
    "options(repr.plot.width = 12, repr.plot.height = 7)\n",
    "set.seed(18)\n",
    "\n",
    "# Create the knn recipe \n",
    "knn_recipe <- recipe(SKL ~ STG + RNG + STR + EPR + EPG, data = knowledge_training)\n",
    "\n",
    "# Create the knn spec to find the best k- value \n",
    "knn_tune <- nearest_neighbor(weight_func = \"rectangular\", neighbors = tune()) %>%\n",
    "    set_engine(\"kknn\") %>%\n",
    "    set_mode(\"classification\")\n",
    "\n",
    "# Create the v-fold \n",
    "knowledge_vfold <- vfold_cv(knowledge_training, v = 5, strata = SKL)\n",
    "\n",
    "# Create the workflow and collect statistics\n",
    "knn_results <- workflow() %>%\n",
    "    add_recipe(knn_recipe) %>%\n",
    "    add_model(knn_tune) %>%\n",
    "    tune_grid(resamples = knowledge_vfold, grid = 10) %>%\n",
    "    collect_metrics()\n",
    "\n",
    "# Calculate and plot accuracy estimates\n",
    "accuracies <- knn_results %>%\n",
    "    filter(.metric == \"accuracy\")\n",
    "\n",
    "accuracy_versus_k <- ggplot(accuracies, aes(x = neighbors, y = mean)) + \n",
    "    geom_point() +\n",
    "    geom_line() +\n",
    "    labs(x = \"Neighbors\", y = \"Accuracy Estimate\") +\n",
    "    scale_x_continuous(breaks = seq(0, 30, by = 1)) +\n",
    "    scale_y_continuous(limits = c(0.7, 0.9))\n",
    "accuracy_versus_k"
   ]
  },
  {
   "cell_type": "markdown",
   "metadata": {},
   "source": [
    "Based on the plot above, we see that $k = 4$ would be a good choice for our $k$ since this gives us the highest accuracy estimate. Additionally, choosing values close to $k = 4$ would not significantly decrease our accuracy.\n",
    "\n",
    "Now that we have our best choice of $k$, let's use it to create our final model. "
   ]
  },
  {
   "cell_type": "code",
   "execution_count": 50,
   "metadata": {},
   "outputs": [
    {
     "data": {
      "text/plain": [
       "══ Workflow [trained] ══════════════════════════════════════════════════════════\n",
       "\u001b[3mPreprocessor:\u001b[23m Recipe\n",
       "\u001b[3mModel:\u001b[23m nearest_neighbor()\n",
       "\n",
       "── Preprocessor ────────────────────────────────────────────────────────────────\n",
       "0 Recipe Steps\n",
       "\n",
       "── Model ───────────────────────────────────────────────────────────────────────\n",
       "\n",
       "Call:\n",
       "kknn::train.kknn(formula = ..y ~ ., data = data, ks = ~4, kernel = ~\"rectangular\")\n",
       "\n",
       "Type of response variable: nominal\n",
       "Minimal misclassification: 0.2364341\n",
       "Best kernel: rectangular\n",
       "Best k: 4"
      ]
     },
     "metadata": {},
     "output_type": "display_data"
    }
   ],
   "source": [
    "knn_spec <- nearest_neighbor(weight_func = \"rectangular\", neighbors = 4) %>%\n",
    "    set_engine(\"kknn\") %>%\n",
    "    set_mode(\"classification\")\n",
    "\n",
    "knn_fit <- workflow() %>%\n",
    "    add_recipe(knn_recipe) %>%\n",
    "    add_model(knn_spec) %>%\n",
    "    fit(data = knowledge_training)\n",
    "\n",
    "knn_fit"
   ]
  },
  {
   "cell_type": "code",
   "execution_count": null,
   "metadata": {},
   "outputs": [],
   "source": []
  },
  {
   "cell_type": "code",
   "execution_count": null,
   "metadata": {},
   "outputs": [],
   "source": []
  },
  {
   "cell_type": "markdown",
   "metadata": {},
   "source": [
    "Now that we have our final model created, let's evaluate it on our test dataset and find out how accurate it really is!"
   ]
  },
  {
   "cell_type": "code",
   "execution_count": 51,
   "metadata": {},
   "outputs": [
    {
     "data": {
      "text/html": [
       "<table>\n",
       "<caption>A tibble: 5 × 7</caption>\n",
       "<thead>\n",
       "\t<tr><th scope=col>.pred_class</th><th scope=col>STG</th><th scope=col>RNG</th><th scope=col>STR</th><th scope=col>EPR</th><th scope=col>EPG</th><th scope=col>SKL</th></tr>\n",
       "\t<tr><th scope=col>&lt;fct&gt;</th><th scope=col>&lt;dbl&gt;</th><th scope=col>&lt;dbl&gt;</th><th scope=col>&lt;dbl&gt;</th><th scope=col>&lt;dbl&gt;</th><th scope=col>&lt;dbl&gt;</th><th scope=col>&lt;fct&gt;</th></tr>\n",
       "</thead>\n",
       "<tbody>\n",
       "\t<tr><td>very low</td><td>0.00</td><td>0.10</td><td>0.50</td><td>0.26</td><td>0.05</td><td>very low</td></tr>\n",
       "\t<tr><td>low     </td><td>0.05</td><td>0.05</td><td>0.55</td><td>0.60</td><td>0.14</td><td>low     </td></tr>\n",
       "\t<tr><td>high    </td><td>0.08</td><td>0.18</td><td>0.63</td><td>0.60</td><td>0.85</td><td>high    </td></tr>\n",
       "\t<tr><td>high    </td><td>0.20</td><td>0.20</td><td>0.68</td><td>0.67</td><td>0.85</td><td>high    </td></tr>\n",
       "\t<tr><td>high    </td><td>0.22</td><td>0.22</td><td>0.90</td><td>0.30</td><td>0.90</td><td>high    </td></tr>\n",
       "</tbody>\n",
       "</table>\n"
      ],
      "text/latex": [
       "A tibble: 5 × 7\n",
       "\\begin{tabular}{lllllll}\n",
       " .pred\\_class & STG & RNG & STR & EPR & EPG & SKL\\\\\n",
       " <fct> & <dbl> & <dbl> & <dbl> & <dbl> & <dbl> & <fct>\\\\\n",
       "\\hline\n",
       "\t very low & 0.00 & 0.10 & 0.50 & 0.26 & 0.05 & very low\\\\\n",
       "\t low      & 0.05 & 0.05 & 0.55 & 0.60 & 0.14 & low     \\\\\n",
       "\t high     & 0.08 & 0.18 & 0.63 & 0.60 & 0.85 & high    \\\\\n",
       "\t high     & 0.20 & 0.20 & 0.68 & 0.67 & 0.85 & high    \\\\\n",
       "\t high     & 0.22 & 0.22 & 0.90 & 0.30 & 0.90 & high    \\\\\n",
       "\\end{tabular}\n"
      ],
      "text/markdown": [
       "\n",
       "A tibble: 5 × 7\n",
       "\n",
       "| .pred_class &lt;fct&gt; | STG &lt;dbl&gt; | RNG &lt;dbl&gt; | STR &lt;dbl&gt; | EPR &lt;dbl&gt; | EPG &lt;dbl&gt; | SKL &lt;fct&gt; |\n",
       "|---|---|---|---|---|---|---|\n",
       "| very low | 0.00 | 0.10 | 0.50 | 0.26 | 0.05 | very low |\n",
       "| low      | 0.05 | 0.05 | 0.55 | 0.60 | 0.14 | low      |\n",
       "| high     | 0.08 | 0.18 | 0.63 | 0.60 | 0.85 | high     |\n",
       "| high     | 0.20 | 0.20 | 0.68 | 0.67 | 0.85 | high     |\n",
       "| high     | 0.22 | 0.22 | 0.90 | 0.30 | 0.90 | high     |\n",
       "\n"
      ],
      "text/plain": [
       "  .pred_class STG  RNG  STR  EPR  EPG  SKL     \n",
       "1 very low    0.00 0.10 0.50 0.26 0.05 very low\n",
       "2 low         0.05 0.05 0.55 0.60 0.14 low     \n",
       "3 high        0.08 0.18 0.63 0.60 0.85 high    \n",
       "4 high        0.20 0.20 0.68 0.67 0.85 high    \n",
       "5 high        0.22 0.22 0.90 0.30 0.90 high    "
      ]
     },
     "metadata": {},
     "output_type": "display_data"
    }
   ],
   "source": [
    "knowledge_predictions <- knn_fit %>%\n",
    "    predict(knowledge_testing) %>%\n",
    "    bind_cols(knowledge_testing)\n",
    "\n",
    "head(knowledge_predictions, n = 5)"
   ]
  },
  {
   "cell_type": "markdown",
   "metadata": {},
   "source": [
    "Time to evaluate the accuracy:"
   ]
  },
  {
   "cell_type": "code",
   "execution_count": 53,
   "metadata": {},
   "outputs": [
    {
     "data": {
      "text/html": [
       "<table>\n",
       "<caption>A tibble: 1 × 3</caption>\n",
       "<thead>\n",
       "\t<tr><th scope=col>.metric</th><th scope=col>.estimator</th><th scope=col>.estimate</th></tr>\n",
       "\t<tr><th scope=col>&lt;chr&gt;</th><th scope=col>&lt;chr&gt;</th><th scope=col>&lt;dbl&gt;</th></tr>\n",
       "</thead>\n",
       "<tbody>\n",
       "\t<tr><td>accuracy</td><td>multiclass</td><td>0.8275862</td></tr>\n",
       "</tbody>\n",
       "</table>\n"
      ],
      "text/latex": [
       "A tibble: 1 × 3\n",
       "\\begin{tabular}{lll}\n",
       " .metric & .estimator & .estimate\\\\\n",
       " <chr> & <chr> & <dbl>\\\\\n",
       "\\hline\n",
       "\t accuracy & multiclass & 0.8275862\\\\\n",
       "\\end{tabular}\n"
      ],
      "text/markdown": [
       "\n",
       "A tibble: 1 × 3\n",
       "\n",
       "| .metric &lt;chr&gt; | .estimator &lt;chr&gt; | .estimate &lt;dbl&gt; |\n",
       "|---|---|---|\n",
       "| accuracy | multiclass | 0.8275862 |\n",
       "\n"
      ],
      "text/plain": [
       "  .metric  .estimator .estimate\n",
       "1 accuracy multiclass 0.8275862"
      ]
     },
     "metadata": {},
     "output_type": "display_data"
    }
   ],
   "source": [
    "knowledge_metrics <- knowledge_predictions %>%\n",
    "    metrics(truth = SKL, estimate = .pred_class) %>%\n",
    "    filter(.metric == \"accuracy\")\n",
    "\n",
    "knowledge_metrics"
   ]
  },
  {
   "cell_type": "markdown",
   "metadata": {},
   "source": [
    "As you can see, the accuracy of our model - as evaluated on the testing dataset - is around $82$%. Is this good? Let's have a look at a confusion matrix before we answer this:"
   ]
  },
  {
   "cell_type": "code",
   "execution_count": 57,
   "metadata": {},
   "outputs": [
    {
     "data": {
      "text/plain": [
       "          Truth\n",
       "Prediction very low low middle high\n",
       "  very low       15   2      0    0\n",
       "  low            11  42      6    0\n",
       "  middle          0   2     27    3\n",
       "  high            0   0      1   36"
      ]
     },
     "metadata": {},
     "output_type": "display_data"
    }
   ],
   "source": [
    "knowledge_predictions %>%\n",
    "    conf_mat(truth = SKL, estimate = .pred_class)"
   ]
  },
  {
   "cell_type": "markdown",
   "metadata": {},
   "source": [
    "notes:\n",
    "- very low is confused for low many times; potentially due to the undersampling of very low (only 23 observations while the others have around 80)\n",
    "- middle confused for low \n",
    "\n",
    "not dealing with Malignant/Benign case so 82% is pretty good imo... thoughts?"
   ]
  },
  {
   "cell_type": "markdown",
   "metadata": {},
   "source": [
    "### Discussion"
   ]
  }
 ],
 "metadata": {
  "kernelspec": {
   "display_name": "R",
   "language": "R",
   "name": "ir"
  },
  "language_info": {
   "codemirror_mode": "r",
   "file_extension": ".r",
   "mimetype": "text/x-r-source",
   "name": "R",
   "pygments_lexer": "r",
   "version": "4.0.0"
  }
 },
 "nbformat": 4,
 "nbformat_minor": 4
}
